{
 "cells": [
  {
   "cell_type": "code",
   "execution_count": 1,
   "id": "7a90b978-fe93-4043-8f88-0259d75fac53",
   "metadata": {
    "ExecuteTime": {
     "end_time": "2023-06-12T12:38:12.729631Z",
     "start_time": "2023-06-12T12:37:47.446239Z"
    }
   },
   "outputs": [
    {
     "name": "stdout",
     "output_type": "stream",
     "text": [
      "Requirement already satisfied: nba_api in c:\\users\\jmbj9\\appdata\\local\\programs\\python\\python311\\lib\\site-packages (1.1.13)\n",
      "Requirement already satisfied: numpy in c:\\users\\jmbj9\\appdata\\local\\programs\\python\\python311\\lib\\site-packages (from nba_api) (1.24.0)\n",
      "Requirement already satisfied: requests in c:\\users\\jmbj9\\appdata\\local\\programs\\python\\python311\\lib\\site-packages (from nba_api) (2.28.2)\n",
      "Requirement already satisfied: charset-normalizer<4,>=2 in c:\\users\\jmbj9\\appdata\\local\\programs\\python\\python311\\lib\\site-packages (from requests->nba_api) (2.1.1)\n",
      "Requirement already satisfied: idna<4,>=2.5 in c:\\users\\jmbj9\\appdata\\local\\programs\\python\\python311\\lib\\site-packages (from requests->nba_api) (3.4)\n",
      "Requirement already satisfied: urllib3<1.27,>=1.21.1 in c:\\users\\jmbj9\\appdata\\local\\programs\\python\\python311\\lib\\site-packages (from requests->nba_api) (1.26.13)\n",
      "Requirement already satisfied: certifi>=2017.4.17 in c:\\users\\jmbj9\\appdata\\local\\programs\\python\\python311\\lib\\site-packages (from requests->nba_api) (2022.12.7)\n",
      "Note: you may need to restart the kernel to use updated packages.\n"
     ]
    }
   ],
   "source": [
    "%pip install nba_api"
   ]
  },
  {
   "cell_type": "code",
   "execution_count": 2,
   "id": "e676d15d-1cbc-4262-8242-9ef0c88fd102",
   "metadata": {
    "ExecuteTime": {
     "end_time": "2023-06-12T12:38:28.984359Z",
     "start_time": "2023-06-12T12:38:12.733106Z"
    }
   },
   "outputs": [],
   "source": [
    "from nba_api.stats.endpoints import leaguegamefinder"
   ]
  },
  {
   "cell_type": "code",
   "execution_count": 3,
   "id": "63b019a8-37ee-4b3d-9c18-0513a8e30e86",
   "metadata": {
    "ExecuteTime": {
     "end_time": "2023-06-12T12:38:32.954153Z",
     "start_time": "2023-06-12T12:38:28.994886Z"
    }
   },
   "outputs": [
    {
     "data": {
      "text/html": [
       "<div>\n",
       "<style scoped>\n",
       "    .dataframe tbody tr th:only-of-type {\n",
       "        vertical-align: middle;\n",
       "    }\n",
       "\n",
       "    .dataframe tbody tr th {\n",
       "        vertical-align: top;\n",
       "    }\n",
       "\n",
       "    .dataframe thead th {\n",
       "        text-align: right;\n",
       "    }\n",
       "</style>\n",
       "<table border=\"1\" class=\"dataframe\">\n",
       "  <thead>\n",
       "    <tr style=\"text-align: right;\">\n",
       "      <th></th>\n",
       "      <th>SEASON_ID</th>\n",
       "      <th>TEAM_ID</th>\n",
       "      <th>TEAM_ABBREVIATION</th>\n",
       "      <th>TEAM_NAME</th>\n",
       "      <th>GAME_ID</th>\n",
       "      <th>GAME_DATE</th>\n",
       "      <th>MATCHUP</th>\n",
       "      <th>WL</th>\n",
       "      <th>MIN</th>\n",
       "      <th>PTS</th>\n",
       "      <th>...</th>\n",
       "      <th>FT_PCT</th>\n",
       "      <th>OREB</th>\n",
       "      <th>DREB</th>\n",
       "      <th>REB</th>\n",
       "      <th>AST</th>\n",
       "      <th>STL</th>\n",
       "      <th>BLK</th>\n",
       "      <th>TOV</th>\n",
       "      <th>PF</th>\n",
       "      <th>PLUS_MINUS</th>\n",
       "    </tr>\n",
       "  </thead>\n",
       "  <tbody>\n",
       "    <tr>\n",
       "      <th>0</th>\n",
       "      <td>22023</td>\n",
       "      <td>1611661323</td>\n",
       "      <td>CON</td>\n",
       "      <td>Connecticut Sun</td>\n",
       "      <td>1022300048</td>\n",
       "      <td>2023-06-11</td>\n",
       "      <td>CON @ ATL</td>\n",
       "      <td>W</td>\n",
       "      <td>201</td>\n",
       "      <td>89</td>\n",
       "      <td>...</td>\n",
       "      <td>0.700</td>\n",
       "      <td>10</td>\n",
       "      <td>24</td>\n",
       "      <td>34</td>\n",
       "      <td>21</td>\n",
       "      <td>12</td>\n",
       "      <td>4</td>\n",
       "      <td>16</td>\n",
       "      <td>22</td>\n",
       "      <td>12.0</td>\n",
       "    </tr>\n",
       "    <tr>\n",
       "      <th>1</th>\n",
       "      <td>22023</td>\n",
       "      <td>1611661320</td>\n",
       "      <td>LAS</td>\n",
       "      <td>Los Angeles Sparks</td>\n",
       "      <td>1022300051</td>\n",
       "      <td>2023-06-11</td>\n",
       "      <td>LAS @ MIN</td>\n",
       "      <td>L</td>\n",
       "      <td>200</td>\n",
       "      <td>86</td>\n",
       "      <td>...</td>\n",
       "      <td>0.867</td>\n",
       "      <td>2</td>\n",
       "      <td>24</td>\n",
       "      <td>26</td>\n",
       "      <td>26</td>\n",
       "      <td>7</td>\n",
       "      <td>6</td>\n",
       "      <td>10</td>\n",
       "      <td>21</td>\n",
       "      <td>-5.0</td>\n",
       "    </tr>\n",
       "    <tr>\n",
       "      <th>2</th>\n",
       "      <td>22023</td>\n",
       "      <td>1611661330</td>\n",
       "      <td>ATL</td>\n",
       "      <td>Atlanta Dream</td>\n",
       "      <td>1022300048</td>\n",
       "      <td>2023-06-11</td>\n",
       "      <td>ATL vs. CON</td>\n",
       "      <td>L</td>\n",
       "      <td>200</td>\n",
       "      <td>77</td>\n",
       "      <td>...</td>\n",
       "      <td>0.833</td>\n",
       "      <td>10</td>\n",
       "      <td>27</td>\n",
       "      <td>37</td>\n",
       "      <td>15</td>\n",
       "      <td>6</td>\n",
       "      <td>6</td>\n",
       "      <td>26</td>\n",
       "      <td>27</td>\n",
       "      <td>-12.0</td>\n",
       "    </tr>\n",
       "    <tr>\n",
       "      <th>3</th>\n",
       "      <td>22023</td>\n",
       "      <td>1611661324</td>\n",
       "      <td>MIN</td>\n",
       "      <td>Minnesota Lynx</td>\n",
       "      <td>1022300051</td>\n",
       "      <td>2023-06-11</td>\n",
       "      <td>MIN vs. LAS</td>\n",
       "      <td>W</td>\n",
       "      <td>199</td>\n",
       "      <td>91</td>\n",
       "      <td>...</td>\n",
       "      <td>0.960</td>\n",
       "      <td>8</td>\n",
       "      <td>30</td>\n",
       "      <td>38</td>\n",
       "      <td>20</td>\n",
       "      <td>7</td>\n",
       "      <td>1</td>\n",
       "      <td>12</td>\n",
       "      <td>15</td>\n",
       "      <td>5.0</td>\n",
       "    </tr>\n",
       "    <tr>\n",
       "      <th>4</th>\n",
       "      <td>22023</td>\n",
       "      <td>1611661325</td>\n",
       "      <td>IND</td>\n",
       "      <td>Indiana Fever</td>\n",
       "      <td>1022300049</td>\n",
       "      <td>2023-06-11</td>\n",
       "      <td>IND vs. PHO</td>\n",
       "      <td>L</td>\n",
       "      <td>201</td>\n",
       "      <td>82</td>\n",
       "      <td>...</td>\n",
       "      <td>0.750</td>\n",
       "      <td>11</td>\n",
       "      <td>20</td>\n",
       "      <td>31</td>\n",
       "      <td>22</td>\n",
       "      <td>1</td>\n",
       "      <td>4</td>\n",
       "      <td>11</td>\n",
       "      <td>20</td>\n",
       "      <td>-3.0</td>\n",
       "    </tr>\n",
       "  </tbody>\n",
       "</table>\n",
       "<p>5 rows × 28 columns</p>\n",
       "</div>"
      ],
      "text/plain": [
       "  SEASON_ID     TEAM_ID TEAM_ABBREVIATION           TEAM_NAME     GAME_ID  \\\n",
       "0     22023  1611661323               CON     Connecticut Sun  1022300048   \n",
       "1     22023  1611661320               LAS  Los Angeles Sparks  1022300051   \n",
       "2     22023  1611661330               ATL       Atlanta Dream  1022300048   \n",
       "3     22023  1611661324               MIN      Minnesota Lynx  1022300051   \n",
       "4     22023  1611661325               IND       Indiana Fever  1022300049   \n",
       "\n",
       "    GAME_DATE      MATCHUP WL  MIN  PTS  ...  FT_PCT  OREB  DREB  REB  AST  \\\n",
       "0  2023-06-11    CON @ ATL  W  201   89  ...   0.700    10    24   34   21   \n",
       "1  2023-06-11    LAS @ MIN  L  200   86  ...   0.867     2    24   26   26   \n",
       "2  2023-06-11  ATL vs. CON  L  200   77  ...   0.833    10    27   37   15   \n",
       "3  2023-06-11  MIN vs. LAS  W  199   91  ...   0.960     8    30   38   20   \n",
       "4  2023-06-11  IND vs. PHO  L  201   82  ...   0.750    11    20   31   22   \n",
       "\n",
       "   STL  BLK  TOV  PF  PLUS_MINUS  \n",
       "0   12    4   16  22        12.0  \n",
       "1    7    6   10  21        -5.0  \n",
       "2    6    6   26  27       -12.0  \n",
       "3    7    1   12  15         5.0  \n",
       "4    1    4   11  20        -3.0  \n",
       "\n",
       "[5 rows x 28 columns]"
      ]
     },
     "execution_count": 3,
     "metadata": {},
     "output_type": "execute_result"
    }
   ],
   "source": [
    "gamefinder = leaguegamefinder.LeagueGameFinder(date_from_nullable='01/31/2020', league_id_nullable='10')\n",
    "games = gamefinder.get_data_frames()[0]\n",
    "games.head()\n"
   ]
  },
  {
   "cell_type": "code",
   "execution_count": 4,
   "id": "8bfded93-17ee-441f-aabd-59421beda608",
   "metadata": {
    "ExecuteTime": {
     "end_time": "2023-06-12T12:38:32.974153Z",
     "start_time": "2023-06-12T12:38:32.883609Z"
    }
   },
   "outputs": [
    {
     "data": {
      "text/plain": [
       "Index(['SEASON_ID', 'TEAM_ID', 'TEAM_ABBREVIATION', 'TEAM_NAME', 'GAME_ID',\n",
       "       'GAME_DATE', 'MATCHUP', 'WL', 'MIN', 'PTS', 'FGM', 'FGA', 'FG_PCT',\n",
       "       'FG3M', 'FG3A', 'FG3_PCT', 'FTM', 'FTA', 'FT_PCT', 'OREB', 'DREB',\n",
       "       'REB', 'AST', 'STL', 'BLK', 'TOV', 'PF', 'PLUS_MINUS'],\n",
       "      dtype='object')"
      ]
     },
     "execution_count": 4,
     "metadata": {},
     "output_type": "execute_result"
    }
   ],
   "source": [
    "games.columns"
   ]
  },
  {
   "cell_type": "code",
   "execution_count": 5,
   "id": "c65c27ff-e0c7-417c-9063-731b8fc2ea73",
   "metadata": {
    "ExecuteTime": {
     "end_time": "2023-06-12T12:38:33.221214Z",
     "start_time": "2023-06-12T12:38:32.910155Z"
    }
   },
   "outputs": [],
   "source": [
    "games = games[['TEAM_NAME', 'GAME_ID', 'GAME_DATE', 'MATCHUP', 'WL','PLUS_MINUS']]"
   ]
  },
  {
   "cell_type": "code",
   "execution_count": 6,
   "id": "37750a6a-6936-460f-a99f-84fb825170d9",
   "metadata": {
    "ExecuteTime": {
     "end_time": "2023-06-12T12:38:33.468181Z",
     "start_time": "2023-06-12T12:38:33.091686Z"
    }
   },
   "outputs": [
    {
     "data": {
      "text/html": [
       "<div>\n",
       "<style scoped>\n",
       "    .dataframe tbody tr th:only-of-type {\n",
       "        vertical-align: middle;\n",
       "    }\n",
       "\n",
       "    .dataframe tbody tr th {\n",
       "        vertical-align: top;\n",
       "    }\n",
       "\n",
       "    .dataframe thead th {\n",
       "        text-align: right;\n",
       "    }\n",
       "</style>\n",
       "<table border=\"1\" class=\"dataframe\">\n",
       "  <thead>\n",
       "    <tr style=\"text-align: right;\">\n",
       "      <th></th>\n",
       "      <th>TEAM_NAME</th>\n",
       "      <th>GAME_ID</th>\n",
       "      <th>GAME_DATE</th>\n",
       "      <th>MATCHUP</th>\n",
       "      <th>WL</th>\n",
       "      <th>PLUS_MINUS</th>\n",
       "    </tr>\n",
       "  </thead>\n",
       "  <tbody>\n",
       "    <tr>\n",
       "      <th>0</th>\n",
       "      <td>Connecticut Sun</td>\n",
       "      <td>1022300048</td>\n",
       "      <td>2023-06-11</td>\n",
       "      <td>CON @ ATL</td>\n",
       "      <td>W</td>\n",
       "      <td>12.0</td>\n",
       "    </tr>\n",
       "    <tr>\n",
       "      <th>1</th>\n",
       "      <td>Los Angeles Sparks</td>\n",
       "      <td>1022300051</td>\n",
       "      <td>2023-06-11</td>\n",
       "      <td>LAS @ MIN</td>\n",
       "      <td>L</td>\n",
       "      <td>-5.0</td>\n",
       "    </tr>\n",
       "    <tr>\n",
       "      <th>2</th>\n",
       "      <td>Atlanta Dream</td>\n",
       "      <td>1022300048</td>\n",
       "      <td>2023-06-11</td>\n",
       "      <td>ATL vs. CON</td>\n",
       "      <td>L</td>\n",
       "      <td>-12.0</td>\n",
       "    </tr>\n",
       "    <tr>\n",
       "      <th>3</th>\n",
       "      <td>Minnesota Lynx</td>\n",
       "      <td>1022300051</td>\n",
       "      <td>2023-06-11</td>\n",
       "      <td>MIN vs. LAS</td>\n",
       "      <td>W</td>\n",
       "      <td>5.0</td>\n",
       "    </tr>\n",
       "    <tr>\n",
       "      <th>4</th>\n",
       "      <td>Indiana Fever</td>\n",
       "      <td>1022300049</td>\n",
       "      <td>2023-06-11</td>\n",
       "      <td>IND vs. PHO</td>\n",
       "      <td>L</td>\n",
       "      <td>-3.0</td>\n",
       "    </tr>\n",
       "    <tr>\n",
       "      <th>...</th>\n",
       "      <td>...</td>\n",
       "      <td>...</td>\n",
       "      <td>...</td>\n",
       "      <td>...</td>\n",
       "      <td>...</td>\n",
       "      <td>...</td>\n",
       "    </tr>\n",
       "    <tr>\n",
       "      <th>1347</th>\n",
       "      <td>Seattle Storm</td>\n",
       "      <td>1022001001</td>\n",
       "      <td>2020-07-25</td>\n",
       "      <td>SEA @ NYL</td>\n",
       "      <td>W</td>\n",
       "      <td>16.0</td>\n",
       "    </tr>\n",
       "    <tr>\n",
       "      <th>1348</th>\n",
       "      <td>Indiana Fever</td>\n",
       "      <td>1022001003</td>\n",
       "      <td>2020-07-25</td>\n",
       "      <td>IND @ WAS</td>\n",
       "      <td>L</td>\n",
       "      <td>-25.0</td>\n",
       "    </tr>\n",
       "    <tr>\n",
       "      <th>1349</th>\n",
       "      <td>New York Liberty</td>\n",
       "      <td>1022001001</td>\n",
       "      <td>2020-07-25</td>\n",
       "      <td>NYL vs. SEA</td>\n",
       "      <td>L</td>\n",
       "      <td>-16.0</td>\n",
       "    </tr>\n",
       "    <tr>\n",
       "      <th>1350</th>\n",
       "      <td>Washington Mystics</td>\n",
       "      <td>1022001003</td>\n",
       "      <td>2020-07-25</td>\n",
       "      <td>WAS vs. IND</td>\n",
       "      <td>W</td>\n",
       "      <td>25.0</td>\n",
       "    </tr>\n",
       "    <tr>\n",
       "      <th>1351</th>\n",
       "      <td>Los Angeles Sparks</td>\n",
       "      <td>1022001002</td>\n",
       "      <td>2020-07-25</td>\n",
       "      <td>LAS @ PHO</td>\n",
       "      <td>W</td>\n",
       "      <td>23.0</td>\n",
       "    </tr>\n",
       "  </tbody>\n",
       "</table>\n",
       "<p>1352 rows × 6 columns</p>\n",
       "</div>"
      ],
      "text/plain": [
       "               TEAM_NAME     GAME_ID   GAME_DATE      MATCHUP WL  PLUS_MINUS\n",
       "0        Connecticut Sun  1022300048  2023-06-11    CON @ ATL  W        12.0\n",
       "1     Los Angeles Sparks  1022300051  2023-06-11    LAS @ MIN  L        -5.0\n",
       "2          Atlanta Dream  1022300048  2023-06-11  ATL vs. CON  L       -12.0\n",
       "3         Minnesota Lynx  1022300051  2023-06-11  MIN vs. LAS  W         5.0\n",
       "4          Indiana Fever  1022300049  2023-06-11  IND vs. PHO  L        -3.0\n",
       "...                  ...         ...         ...          ... ..         ...\n",
       "1347       Seattle Storm  1022001001  2020-07-25    SEA @ NYL  W        16.0\n",
       "1348       Indiana Fever  1022001003  2020-07-25    IND @ WAS  L       -25.0\n",
       "1349    New York Liberty  1022001001  2020-07-25  NYL vs. SEA  L       -16.0\n",
       "1350  Washington Mystics  1022001003  2020-07-25  WAS vs. IND  W        25.0\n",
       "1351  Los Angeles Sparks  1022001002  2020-07-25    LAS @ PHO  W        23.0\n",
       "\n",
       "[1352 rows x 6 columns]"
      ]
     },
     "execution_count": 6,
     "metadata": {},
     "output_type": "execute_result"
    }
   ],
   "source": [
    "games"
   ]
  },
  {
   "cell_type": "code",
   "execution_count": 7,
   "id": "3dea0bfe-b33d-4f13-ba76-4401a707f639",
   "metadata": {
    "ExecuteTime": {
     "end_time": "2023-06-12T12:38:33.622818Z",
     "start_time": "2023-06-12T12:38:33.324192Z"
    }
   },
   "outputs": [],
   "source": [
    "#final data frame: one row for one game\n",
    "#two columns: 1.Result of game: target 2. Score stat comparing two teams: feature"
   ]
  },
  {
   "cell_type": "code",
   "execution_count": 8,
   "id": "cdba0670-7f91-41e2-8869-5b63fddec663",
   "metadata": {
    "ExecuteTime": {
     "end_time": "2023-06-12T12:38:34.046654Z",
     "start_time": "2023-06-12T12:38:33.548729Z"
    }
   },
   "outputs": [],
   "source": [
    "import pandas as pd"
   ]
  },
  {
   "cell_type": "code",
   "execution_count": 9,
   "id": "cbb4b035-a0f0-4525-8331-a0a15be654f0",
   "metadata": {
    "ExecuteTime": {
     "end_time": "2023-06-12T12:38:34.149192Z",
     "start_time": "2023-06-12T12:38:33.861581Z"
    }
   },
   "outputs": [
    {
     "name": "stdout",
     "output_type": "stream",
     "text": [
      "<class 'pandas.core.frame.DataFrame'>\n",
      "RangeIndex: 1352 entries, 0 to 1351\n",
      "Data columns (total 6 columns):\n",
      " #   Column      Non-Null Count  Dtype  \n",
      "---  ------      --------------  -----  \n",
      " 0   TEAM_NAME   1352 non-null   object \n",
      " 1   GAME_ID     1352 non-null   object \n",
      " 2   GAME_DATE   1352 non-null   object \n",
      " 3   MATCHUP     1352 non-null   object \n",
      " 4   WL          1350 non-null   object \n",
      " 5   PLUS_MINUS  1352 non-null   float64\n",
      "dtypes: float64(1), object(5)\n",
      "memory usage: 63.5+ KB\n"
     ]
    }
   ],
   "source": [
    "games.info()"
   ]
  },
  {
   "cell_type": "code",
   "execution_count": 10,
   "id": "f17325af-3504-4fa7-810b-4e86c43b1b95",
   "metadata": {
    "ExecuteTime": {
     "end_time": "2023-06-12T12:38:34.781301Z",
     "start_time": "2023-06-12T12:38:34.139192Z"
    }
   },
   "outputs": [],
   "source": [
    "games['GAME_DATE'] = pd.to_datetime(games['GAME_DATE'])"
   ]
  },
  {
   "cell_type": "code",
   "execution_count": 11,
   "id": "b7400885-28c5-48ff-8310-b1306d116176",
   "metadata": {
    "ExecuteTime": {
     "end_time": "2023-06-12T12:38:34.799286Z",
     "start_time": "2023-06-12T12:38:34.775284Z"
    }
   },
   "outputs": [
    {
     "data": {
      "text/plain": [
       "0      2023-06-11\n",
       "1      2023-06-11\n",
       "2      2023-06-11\n",
       "3      2023-06-11\n",
       "4      2023-06-11\n",
       "          ...    \n",
       "1347   2020-07-25\n",
       "1348   2020-07-25\n",
       "1349   2020-07-25\n",
       "1350   2020-07-25\n",
       "1351   2020-07-25\n",
       "Name: GAME_DATE, Length: 1352, dtype: datetime64[ns]"
      ]
     },
     "execution_count": 11,
     "metadata": {},
     "output_type": "execute_result"
    }
   ],
   "source": [
    "games['GAME_DATE']"
   ]
  },
  {
   "cell_type": "code",
   "execution_count": 12,
   "id": "31daebb3-5a87-4cdb-9d5d-0b4e6dbf2831",
   "metadata": {
    "ExecuteTime": {
     "end_time": "2023-06-12T12:38:35.006393Z",
     "start_time": "2023-06-12T12:38:34.916282Z"
    }
   },
   "outputs": [],
   "source": [
    "games = games.sort_values('GAME_DATE')"
   ]
  },
  {
   "cell_type": "code",
   "execution_count": 13,
   "id": "3d5e50a6-f582-46f3-9047-4b3e974a9ee4",
   "metadata": {
    "ExecuteTime": {
     "end_time": "2023-06-12T12:38:35.257177Z",
     "start_time": "2023-06-12T12:38:34.988396Z"
    }
   },
   "outputs": [
    {
     "data": {
      "text/html": [
       "<div>\n",
       "<style scoped>\n",
       "    .dataframe tbody tr th:only-of-type {\n",
       "        vertical-align: middle;\n",
       "    }\n",
       "\n",
       "    .dataframe tbody tr th {\n",
       "        vertical-align: top;\n",
       "    }\n",
       "\n",
       "    .dataframe thead th {\n",
       "        text-align: right;\n",
       "    }\n",
       "</style>\n",
       "<table border=\"1\" class=\"dataframe\">\n",
       "  <thead>\n",
       "    <tr style=\"text-align: right;\">\n",
       "      <th></th>\n",
       "      <th>TEAM_NAME</th>\n",
       "      <th>GAME_ID</th>\n",
       "      <th>GAME_DATE</th>\n",
       "      <th>MATCHUP</th>\n",
       "      <th>WL</th>\n",
       "      <th>PLUS_MINUS</th>\n",
       "    </tr>\n",
       "  </thead>\n",
       "  <tbody>\n",
       "    <tr>\n",
       "      <th>1351</th>\n",
       "      <td>Los Angeles Sparks</td>\n",
       "      <td>1022001002</td>\n",
       "      <td>2020-07-25</td>\n",
       "      <td>LAS @ PHO</td>\n",
       "      <td>W</td>\n",
       "      <td>23.0</td>\n",
       "    </tr>\n",
       "    <tr>\n",
       "      <th>1346</th>\n",
       "      <td>Phoenix Mercury</td>\n",
       "      <td>1022001002</td>\n",
       "      <td>2020-07-25</td>\n",
       "      <td>PHO vs. LAS</td>\n",
       "      <td>L</td>\n",
       "      <td>-23.0</td>\n",
       "    </tr>\n",
       "    <tr>\n",
       "      <th>1347</th>\n",
       "      <td>Seattle Storm</td>\n",
       "      <td>1022001001</td>\n",
       "      <td>2020-07-25</td>\n",
       "      <td>SEA @ NYL</td>\n",
       "      <td>W</td>\n",
       "      <td>16.0</td>\n",
       "    </tr>\n",
       "    <tr>\n",
       "      <th>1350</th>\n",
       "      <td>Washington Mystics</td>\n",
       "      <td>1022001003</td>\n",
       "      <td>2020-07-25</td>\n",
       "      <td>WAS vs. IND</td>\n",
       "      <td>W</td>\n",
       "      <td>25.0</td>\n",
       "    </tr>\n",
       "    <tr>\n",
       "      <th>1349</th>\n",
       "      <td>New York Liberty</td>\n",
       "      <td>1022001001</td>\n",
       "      <td>2020-07-25</td>\n",
       "      <td>NYL vs. SEA</td>\n",
       "      <td>L</td>\n",
       "      <td>-16.0</td>\n",
       "    </tr>\n",
       "    <tr>\n",
       "      <th>...</th>\n",
       "      <td>...</td>\n",
       "      <td>...</td>\n",
       "      <td>...</td>\n",
       "      <td>...</td>\n",
       "      <td>...</td>\n",
       "      <td>...</td>\n",
       "    </tr>\n",
       "    <tr>\n",
       "      <th>9</th>\n",
       "      <td>Dallas Wings</td>\n",
       "      <td>1022300046</td>\n",
       "      <td>2023-06-11</td>\n",
       "      <td>DAL @ NYL</td>\n",
       "      <td>L</td>\n",
       "      <td>-9.0</td>\n",
       "    </tr>\n",
       "    <tr>\n",
       "      <th>10</th>\n",
       "      <td>Seattle Storm</td>\n",
       "      <td>1022300050</td>\n",
       "      <td>2023-06-11</td>\n",
       "      <td>SEA vs. WAS</td>\n",
       "      <td>L</td>\n",
       "      <td>-6.0</td>\n",
       "    </tr>\n",
       "    <tr>\n",
       "      <th>11</th>\n",
       "      <td>Chicago Sky</td>\n",
       "      <td>1022300047</td>\n",
       "      <td>2023-06-11</td>\n",
       "      <td>CHI @ LVA</td>\n",
       "      <td>L</td>\n",
       "      <td>-13.0</td>\n",
       "    </tr>\n",
       "    <tr>\n",
       "      <th>6</th>\n",
       "      <td>Washington Mystics</td>\n",
       "      <td>1022300050</td>\n",
       "      <td>2023-06-11</td>\n",
       "      <td>WAS @ SEA</td>\n",
       "      <td>W</td>\n",
       "      <td>6.0</td>\n",
       "    </tr>\n",
       "    <tr>\n",
       "      <th>0</th>\n",
       "      <td>Connecticut Sun</td>\n",
       "      <td>1022300048</td>\n",
       "      <td>2023-06-11</td>\n",
       "      <td>CON @ ATL</td>\n",
       "      <td>W</td>\n",
       "      <td>12.0</td>\n",
       "    </tr>\n",
       "  </tbody>\n",
       "</table>\n",
       "<p>1352 rows × 6 columns</p>\n",
       "</div>"
      ],
      "text/plain": [
       "               TEAM_NAME     GAME_ID  GAME_DATE      MATCHUP WL  PLUS_MINUS\n",
       "1351  Los Angeles Sparks  1022001002 2020-07-25    LAS @ PHO  W        23.0\n",
       "1346     Phoenix Mercury  1022001002 2020-07-25  PHO vs. LAS  L       -23.0\n",
       "1347       Seattle Storm  1022001001 2020-07-25    SEA @ NYL  W        16.0\n",
       "1350  Washington Mystics  1022001003 2020-07-25  WAS vs. IND  W        25.0\n",
       "1349    New York Liberty  1022001001 2020-07-25  NYL vs. SEA  L       -16.0\n",
       "...                  ...         ...        ...          ... ..         ...\n",
       "9           Dallas Wings  1022300046 2023-06-11    DAL @ NYL  L        -9.0\n",
       "10         Seattle Storm  1022300050 2023-06-11  SEA vs. WAS  L        -6.0\n",
       "11           Chicago Sky  1022300047 2023-06-11    CHI @ LVA  L       -13.0\n",
       "6     Washington Mystics  1022300050 2023-06-11    WAS @ SEA  W         6.0\n",
       "0        Connecticut Sun  1022300048 2023-06-11    CON @ ATL  W        12.0\n",
       "\n",
       "[1352 rows x 6 columns]"
      ]
     },
     "execution_count": 13,
     "metadata": {},
     "output_type": "execute_result"
    }
   ],
   "source": [
    "games"
   ]
  },
  {
   "cell_type": "code",
   "execution_count": 14,
   "id": "6c9b3053-0ee9-4e7e-a51e-684b40445b33",
   "metadata": {
    "ExecuteTime": {
     "end_time": "2023-06-12T12:38:35.679725Z",
     "start_time": "2023-06-12T12:38:35.251172Z"
    }
   },
   "outputs": [],
   "source": [
    "#Getting avg +- for individual team over last 30 games - sorted\n",
    "#group by team looking at +- column\n",
    "#transform method to apply function: rolling method calculates statistics of moving window based on fixed size \n",
    "games['AVG_30_PLUS_MINUS']=games.groupby('TEAM_NAME')['PLUS_MINUS'].transform(lambda x: x.rolling(30, closed='left').mean())"
   ]
  },
  {
   "cell_type": "code",
   "execution_count": 15,
   "id": "79fdc304-0e92-40a8-9f02-93718522e66b",
   "metadata": {
    "ExecuteTime": {
     "end_time": "2023-06-12T12:38:36.186422Z",
     "start_time": "2023-06-12T12:38:35.816825Z"
    }
   },
   "outputs": [],
   "source": [
    "#home advantage\n",
    "#below signifies away team with @ in matchup column\n",
    "msk = games['MATCHUP'].str.contains('@')"
   ]
  },
  {
   "cell_type": "code",
   "execution_count": 16,
   "id": "583d4915-d2fd-4477-a436-bf783549dd09",
   "metadata": {
    "ExecuteTime": {
     "end_time": "2023-06-12T12:38:36.348671Z",
     "start_time": "2023-06-12T12:38:36.052836Z"
    }
   },
   "outputs": [],
   "source": [
    "games_away = games[msk]\n",
    "games_home = games[~msk]"
   ]
  },
  {
   "cell_type": "code",
   "execution_count": 17,
   "id": "ab203e88-0294-4750-87aa-b73e784c8198",
   "metadata": {
    "ExecuteTime": {
     "end_time": "2023-06-12T12:38:36.540768Z",
     "start_time": "2023-06-12T12:38:36.245673Z"
    }
   },
   "outputs": [
    {
     "data": {
      "text/plain": [
       "(676, 7)"
      ]
     },
     "execution_count": 17,
     "metadata": {},
     "output_type": "execute_result"
    }
   ],
   "source": [
    "#print shape to confirm that all games accounted for\n",
    "games_home.shape"
   ]
  },
  {
   "cell_type": "code",
   "execution_count": 18,
   "id": "4a43cf15-1687-41ed-8e9a-2ced0edb2fc6",
   "metadata": {
    "ExecuteTime": {
     "end_time": "2023-06-12T12:38:36.985875Z",
     "start_time": "2023-06-12T12:38:36.503779Z"
    }
   },
   "outputs": [
    {
     "data": {
      "text/plain": [
       "(676, 7)"
      ]
     },
     "execution_count": 18,
     "metadata": {},
     "output_type": "execute_result"
    }
   ],
   "source": [
    "games_away.shape"
   ]
  },
  {
   "cell_type": "code",
   "execution_count": 19,
   "id": "6ca82417-de1c-45fa-8513-8dd7f7f87ce1",
   "metadata": {
    "ExecuteTime": {
     "end_time": "2023-06-12T12:38:37.324535Z",
     "start_time": "2023-06-12T12:38:36.963880Z"
    }
   },
   "outputs": [
    {
     "data": {
      "text/plain": [
       "(676, 7)"
      ]
     },
     "execution_count": 19,
     "metadata": {},
     "output_type": "execute_result"
    }
   ],
   "source": [
    "games_away.shape"
   ]
  },
  {
   "cell_type": "code",
   "execution_count": 20,
   "id": "eabe7cdd-3727-4139-962e-a62b599a4dff",
   "metadata": {
    "ExecuteTime": {
     "end_time": "2023-06-12T12:38:37.680585Z",
     "start_time": "2023-06-12T12:38:37.289981Z"
    }
   },
   "outputs": [
    {
     "data": {
      "text/plain": [
       "(1352, 7)"
      ]
     },
     "execution_count": 20,
     "metadata": {},
     "output_type": "execute_result"
    }
   ],
   "source": [
    "games.shape"
   ]
  },
  {
   "cell_type": "code",
   "execution_count": 21,
   "id": "a3faf4f4-c2e3-403d-841b-f482fc97eb72",
   "metadata": {
    "ExecuteTime": {
     "end_time": "2023-06-12T12:38:37.807632Z",
     "start_time": "2023-06-12T12:38:37.517523Z"
    }
   },
   "outputs": [
    {
     "data": {
      "text/html": [
       "<div>\n",
       "<style scoped>\n",
       "    .dataframe tbody tr th:only-of-type {\n",
       "        vertical-align: middle;\n",
       "    }\n",
       "\n",
       "    .dataframe tbody tr th {\n",
       "        vertical-align: top;\n",
       "    }\n",
       "\n",
       "    .dataframe thead th {\n",
       "        text-align: right;\n",
       "    }\n",
       "</style>\n",
       "<table border=\"1\" class=\"dataframe\">\n",
       "  <thead>\n",
       "    <tr style=\"text-align: right;\">\n",
       "      <th></th>\n",
       "      <th>TEAM_NAME</th>\n",
       "      <th>GAME_ID</th>\n",
       "      <th>GAME_DATE</th>\n",
       "      <th>MATCHUP</th>\n",
       "      <th>WL</th>\n",
       "      <th>PLUS_MINUS</th>\n",
       "      <th>AVG_30_PLUS_MINUS</th>\n",
       "    </tr>\n",
       "  </thead>\n",
       "  <tbody>\n",
       "    <tr>\n",
       "      <th>1346</th>\n",
       "      <td>Phoenix Mercury</td>\n",
       "      <td>1022001002</td>\n",
       "      <td>2020-07-25</td>\n",
       "      <td>PHO vs. LAS</td>\n",
       "      <td>L</td>\n",
       "      <td>-23.0</td>\n",
       "      <td>NaN</td>\n",
       "    </tr>\n",
       "    <tr>\n",
       "      <th>1350</th>\n",
       "      <td>Washington Mystics</td>\n",
       "      <td>1022001003</td>\n",
       "      <td>2020-07-25</td>\n",
       "      <td>WAS vs. IND</td>\n",
       "      <td>W</td>\n",
       "      <td>25.0</td>\n",
       "      <td>NaN</td>\n",
       "    </tr>\n",
       "    <tr>\n",
       "      <th>1349</th>\n",
       "      <td>New York Liberty</td>\n",
       "      <td>1022001001</td>\n",
       "      <td>2020-07-25</td>\n",
       "      <td>NYL vs. SEA</td>\n",
       "      <td>L</td>\n",
       "      <td>-16.0</td>\n",
       "      <td>NaN</td>\n",
       "    </tr>\n",
       "    <tr>\n",
       "      <th>1344</th>\n",
       "      <td>Minnesota Lynx</td>\n",
       "      <td>1022001004</td>\n",
       "      <td>2020-07-26</td>\n",
       "      <td>MIN vs. CON</td>\n",
       "      <td>W</td>\n",
       "      <td>8.0</td>\n",
       "      <td>NaN</td>\n",
       "    </tr>\n",
       "    <tr>\n",
       "      <th>1343</th>\n",
       "      <td>Las Vegas Aces</td>\n",
       "      <td>1022001005</td>\n",
       "      <td>2020-07-26</td>\n",
       "      <td>LVA vs. CHI</td>\n",
       "      <td>L</td>\n",
       "      <td>-2.0</td>\n",
       "      <td>NaN</td>\n",
       "    </tr>\n",
       "    <tr>\n",
       "      <th>...</th>\n",
       "      <td>...</td>\n",
       "      <td>...</td>\n",
       "      <td>...</td>\n",
       "      <td>...</td>\n",
       "      <td>...</td>\n",
       "      <td>...</td>\n",
       "      <td>...</td>\n",
       "    </tr>\n",
       "    <tr>\n",
       "      <th>3</th>\n",
       "      <td>Minnesota Lynx</td>\n",
       "      <td>1022300051</td>\n",
       "      <td>2023-06-11</td>\n",
       "      <td>MIN vs. LAS</td>\n",
       "      <td>W</td>\n",
       "      <td>5.0</td>\n",
       "      <td>-0.380000</td>\n",
       "    </tr>\n",
       "    <tr>\n",
       "      <th>4</th>\n",
       "      <td>Indiana Fever</td>\n",
       "      <td>1022300049</td>\n",
       "      <td>2023-06-11</td>\n",
       "      <td>IND vs. PHO</td>\n",
       "      <td>L</td>\n",
       "      <td>-3.0</td>\n",
       "      <td>-10.433333</td>\n",
       "    </tr>\n",
       "    <tr>\n",
       "      <th>7</th>\n",
       "      <td>Las Vegas Aces</td>\n",
       "      <td>1022300047</td>\n",
       "      <td>2023-06-11</td>\n",
       "      <td>LVA vs. CHI</td>\n",
       "      <td>W</td>\n",
       "      <td>13.0</td>\n",
       "      <td>9.386667</td>\n",
       "    </tr>\n",
       "    <tr>\n",
       "      <th>8</th>\n",
       "      <td>New York Liberty</td>\n",
       "      <td>1022300046</td>\n",
       "      <td>2023-06-11</td>\n",
       "      <td>NYL vs. DAL</td>\n",
       "      <td>W</td>\n",
       "      <td>9.0</td>\n",
       "      <td>-1.466667</td>\n",
       "    </tr>\n",
       "    <tr>\n",
       "      <th>10</th>\n",
       "      <td>Seattle Storm</td>\n",
       "      <td>1022300050</td>\n",
       "      <td>2023-06-11</td>\n",
       "      <td>SEA vs. WAS</td>\n",
       "      <td>L</td>\n",
       "      <td>-6.0</td>\n",
       "      <td>1.100000</td>\n",
       "    </tr>\n",
       "  </tbody>\n",
       "</table>\n",
       "<p>676 rows × 7 columns</p>\n",
       "</div>"
      ],
      "text/plain": [
       "               TEAM_NAME     GAME_ID  GAME_DATE      MATCHUP WL  PLUS_MINUS  \\\n",
       "1346     Phoenix Mercury  1022001002 2020-07-25  PHO vs. LAS  L       -23.0   \n",
       "1350  Washington Mystics  1022001003 2020-07-25  WAS vs. IND  W        25.0   \n",
       "1349    New York Liberty  1022001001 2020-07-25  NYL vs. SEA  L       -16.0   \n",
       "1344      Minnesota Lynx  1022001004 2020-07-26  MIN vs. CON  W         8.0   \n",
       "1343      Las Vegas Aces  1022001005 2020-07-26  LVA vs. CHI  L        -2.0   \n",
       "...                  ...         ...        ...          ... ..         ...   \n",
       "3         Minnesota Lynx  1022300051 2023-06-11  MIN vs. LAS  W         5.0   \n",
       "4          Indiana Fever  1022300049 2023-06-11  IND vs. PHO  L        -3.0   \n",
       "7         Las Vegas Aces  1022300047 2023-06-11  LVA vs. CHI  W        13.0   \n",
       "8       New York Liberty  1022300046 2023-06-11  NYL vs. DAL  W         9.0   \n",
       "10         Seattle Storm  1022300050 2023-06-11  SEA vs. WAS  L        -6.0   \n",
       "\n",
       "      AVG_30_PLUS_MINUS  \n",
       "1346                NaN  \n",
       "1350                NaN  \n",
       "1349                NaN  \n",
       "1344                NaN  \n",
       "1343                NaN  \n",
       "...                 ...  \n",
       "3             -0.380000  \n",
       "4            -10.433333  \n",
       "7              9.386667  \n",
       "8             -1.466667  \n",
       "10             1.100000  \n",
       "\n",
       "[676 rows x 7 columns]"
      ]
     },
     "execution_count": 21,
     "metadata": {},
     "output_type": "execute_result"
    }
   ],
   "source": [
    "games_home"
   ]
  },
  {
   "cell_type": "code",
   "execution_count": 22,
   "id": "8f3f0d8d-850a-42d9-8bf1-ceea82cba5b3",
   "metadata": {
    "ExecuteTime": {
     "end_time": "2023-06-12T12:38:38.314183Z",
     "start_time": "2023-06-12T12:38:37.787630Z"
    }
   },
   "outputs": [],
   "source": [
    "games_merged = pd.merge(games_home, games_away, on = 'GAME_ID', suffixes = ('_home', '_away'))"
   ]
  },
  {
   "cell_type": "code",
   "execution_count": 23,
   "id": "4e57d2df-d882-42e4-a6c1-73536c2aa8f6",
   "metadata": {
    "ExecuteTime": {
     "end_time": "2023-06-12T12:38:38.356025Z",
     "start_time": "2023-06-12T12:38:37.995707Z"
    }
   },
   "outputs": [
    {
     "data": {
      "text/html": [
       "<div>\n",
       "<style scoped>\n",
       "    .dataframe tbody tr th:only-of-type {\n",
       "        vertical-align: middle;\n",
       "    }\n",
       "\n",
       "    .dataframe tbody tr th {\n",
       "        vertical-align: top;\n",
       "    }\n",
       "\n",
       "    .dataframe thead th {\n",
       "        text-align: right;\n",
       "    }\n",
       "</style>\n",
       "<table border=\"1\" class=\"dataframe\">\n",
       "  <thead>\n",
       "    <tr style=\"text-align: right;\">\n",
       "      <th></th>\n",
       "      <th>TEAM_NAME_home</th>\n",
       "      <th>GAME_ID</th>\n",
       "      <th>GAME_DATE_home</th>\n",
       "      <th>MATCHUP_home</th>\n",
       "      <th>WL_home</th>\n",
       "      <th>PLUS_MINUS_home</th>\n",
       "      <th>AVG_30_PLUS_MINUS_home</th>\n",
       "      <th>TEAM_NAME_away</th>\n",
       "      <th>GAME_DATE_away</th>\n",
       "      <th>MATCHUP_away</th>\n",
       "      <th>WL_away</th>\n",
       "      <th>PLUS_MINUS_away</th>\n",
       "      <th>AVG_30_PLUS_MINUS_away</th>\n",
       "    </tr>\n",
       "  </thead>\n",
       "  <tbody>\n",
       "    <tr>\n",
       "      <th>0</th>\n",
       "      <td>Phoenix Mercury</td>\n",
       "      <td>1022001002</td>\n",
       "      <td>2020-07-25</td>\n",
       "      <td>PHO vs. LAS</td>\n",
       "      <td>L</td>\n",
       "      <td>-23.0</td>\n",
       "      <td>NaN</td>\n",
       "      <td>Los Angeles Sparks</td>\n",
       "      <td>2020-07-25</td>\n",
       "      <td>LAS @ PHO</td>\n",
       "      <td>W</td>\n",
       "      <td>23.0</td>\n",
       "      <td>NaN</td>\n",
       "    </tr>\n",
       "    <tr>\n",
       "      <th>1</th>\n",
       "      <td>Washington Mystics</td>\n",
       "      <td>1022001003</td>\n",
       "      <td>2020-07-25</td>\n",
       "      <td>WAS vs. IND</td>\n",
       "      <td>W</td>\n",
       "      <td>25.0</td>\n",
       "      <td>NaN</td>\n",
       "      <td>Indiana Fever</td>\n",
       "      <td>2020-07-25</td>\n",
       "      <td>IND @ WAS</td>\n",
       "      <td>L</td>\n",
       "      <td>-25.0</td>\n",
       "      <td>NaN</td>\n",
       "    </tr>\n",
       "    <tr>\n",
       "      <th>2</th>\n",
       "      <td>New York Liberty</td>\n",
       "      <td>1022001001</td>\n",
       "      <td>2020-07-25</td>\n",
       "      <td>NYL vs. SEA</td>\n",
       "      <td>L</td>\n",
       "      <td>-16.0</td>\n",
       "      <td>NaN</td>\n",
       "      <td>Seattle Storm</td>\n",
       "      <td>2020-07-25</td>\n",
       "      <td>SEA @ NYL</td>\n",
       "      <td>W</td>\n",
       "      <td>16.0</td>\n",
       "      <td>NaN</td>\n",
       "    </tr>\n",
       "    <tr>\n",
       "      <th>3</th>\n",
       "      <td>Minnesota Lynx</td>\n",
       "      <td>1022001004</td>\n",
       "      <td>2020-07-26</td>\n",
       "      <td>MIN vs. CON</td>\n",
       "      <td>W</td>\n",
       "      <td>8.0</td>\n",
       "      <td>NaN</td>\n",
       "      <td>Connecticut Sun</td>\n",
       "      <td>2020-07-26</td>\n",
       "      <td>CON @ MIN</td>\n",
       "      <td>L</td>\n",
       "      <td>-8.0</td>\n",
       "      <td>NaN</td>\n",
       "    </tr>\n",
       "    <tr>\n",
       "      <th>4</th>\n",
       "      <td>Las Vegas Aces</td>\n",
       "      <td>1022001005</td>\n",
       "      <td>2020-07-26</td>\n",
       "      <td>LVA vs. CHI</td>\n",
       "      <td>L</td>\n",
       "      <td>-2.0</td>\n",
       "      <td>NaN</td>\n",
       "      <td>Chicago Sky</td>\n",
       "      <td>2020-07-26</td>\n",
       "      <td>CHI @ LVA</td>\n",
       "      <td>W</td>\n",
       "      <td>2.0</td>\n",
       "      <td>NaN</td>\n",
       "    </tr>\n",
       "    <tr>\n",
       "      <th>...</th>\n",
       "      <td>...</td>\n",
       "      <td>...</td>\n",
       "      <td>...</td>\n",
       "      <td>...</td>\n",
       "      <td>...</td>\n",
       "      <td>...</td>\n",
       "      <td>...</td>\n",
       "      <td>...</td>\n",
       "      <td>...</td>\n",
       "      <td>...</td>\n",
       "      <td>...</td>\n",
       "      <td>...</td>\n",
       "      <td>...</td>\n",
       "    </tr>\n",
       "    <tr>\n",
       "      <th>671</th>\n",
       "      <td>Minnesota Lynx</td>\n",
       "      <td>1022300051</td>\n",
       "      <td>2023-06-11</td>\n",
       "      <td>MIN vs. LAS</td>\n",
       "      <td>W</td>\n",
       "      <td>5.0</td>\n",
       "      <td>-0.380000</td>\n",
       "      <td>Los Angeles Sparks</td>\n",
       "      <td>2023-06-11</td>\n",
       "      <td>LAS @ MIN</td>\n",
       "      <td>L</td>\n",
       "      <td>-5.0</td>\n",
       "      <td>-5.333333</td>\n",
       "    </tr>\n",
       "    <tr>\n",
       "      <th>672</th>\n",
       "      <td>Indiana Fever</td>\n",
       "      <td>1022300049</td>\n",
       "      <td>2023-06-11</td>\n",
       "      <td>IND vs. PHO</td>\n",
       "      <td>L</td>\n",
       "      <td>-3.0</td>\n",
       "      <td>-10.433333</td>\n",
       "      <td>Phoenix Mercury</td>\n",
       "      <td>2023-06-11</td>\n",
       "      <td>PHO @ IND</td>\n",
       "      <td>W</td>\n",
       "      <td>3.0</td>\n",
       "      <td>-5.066667</td>\n",
       "    </tr>\n",
       "    <tr>\n",
       "      <th>673</th>\n",
       "      <td>Las Vegas Aces</td>\n",
       "      <td>1022300047</td>\n",
       "      <td>2023-06-11</td>\n",
       "      <td>LVA vs. CHI</td>\n",
       "      <td>W</td>\n",
       "      <td>13.0</td>\n",
       "      <td>9.386667</td>\n",
       "      <td>Chicago Sky</td>\n",
       "      <td>2023-06-11</td>\n",
       "      <td>CHI @ LVA</td>\n",
       "      <td>L</td>\n",
       "      <td>-13.0</td>\n",
       "      <td>1.500000</td>\n",
       "    </tr>\n",
       "    <tr>\n",
       "      <th>674</th>\n",
       "      <td>New York Liberty</td>\n",
       "      <td>1022300046</td>\n",
       "      <td>2023-06-11</td>\n",
       "      <td>NYL vs. DAL</td>\n",
       "      <td>W</td>\n",
       "      <td>9.0</td>\n",
       "      <td>-1.466667</td>\n",
       "      <td>Dallas Wings</td>\n",
       "      <td>2023-06-11</td>\n",
       "      <td>DAL @ NYL</td>\n",
       "      <td>L</td>\n",
       "      <td>-9.0</td>\n",
       "      <td>-0.733333</td>\n",
       "    </tr>\n",
       "    <tr>\n",
       "      <th>675</th>\n",
       "      <td>Seattle Storm</td>\n",
       "      <td>1022300050</td>\n",
       "      <td>2023-06-11</td>\n",
       "      <td>SEA vs. WAS</td>\n",
       "      <td>L</td>\n",
       "      <td>-6.0</td>\n",
       "      <td>1.100000</td>\n",
       "      <td>Washington Mystics</td>\n",
       "      <td>2023-06-11</td>\n",
       "      <td>WAS @ SEA</td>\n",
       "      <td>W</td>\n",
       "      <td>6.0</td>\n",
       "      <td>3.033333</td>\n",
       "    </tr>\n",
       "  </tbody>\n",
       "</table>\n",
       "<p>676 rows × 13 columns</p>\n",
       "</div>"
      ],
      "text/plain": [
       "         TEAM_NAME_home     GAME_ID GAME_DATE_home MATCHUP_home WL_home  \\\n",
       "0       Phoenix Mercury  1022001002     2020-07-25  PHO vs. LAS       L   \n",
       "1    Washington Mystics  1022001003     2020-07-25  WAS vs. IND       W   \n",
       "2      New York Liberty  1022001001     2020-07-25  NYL vs. SEA       L   \n",
       "3        Minnesota Lynx  1022001004     2020-07-26  MIN vs. CON       W   \n",
       "4        Las Vegas Aces  1022001005     2020-07-26  LVA vs. CHI       L   \n",
       "..                  ...         ...            ...          ...     ...   \n",
       "671      Minnesota Lynx  1022300051     2023-06-11  MIN vs. LAS       W   \n",
       "672       Indiana Fever  1022300049     2023-06-11  IND vs. PHO       L   \n",
       "673      Las Vegas Aces  1022300047     2023-06-11  LVA vs. CHI       W   \n",
       "674    New York Liberty  1022300046     2023-06-11  NYL vs. DAL       W   \n",
       "675       Seattle Storm  1022300050     2023-06-11  SEA vs. WAS       L   \n",
       "\n",
       "     PLUS_MINUS_home  AVG_30_PLUS_MINUS_home      TEAM_NAME_away  \\\n",
       "0              -23.0                     NaN  Los Angeles Sparks   \n",
       "1               25.0                     NaN       Indiana Fever   \n",
       "2              -16.0                     NaN       Seattle Storm   \n",
       "3                8.0                     NaN     Connecticut Sun   \n",
       "4               -2.0                     NaN         Chicago Sky   \n",
       "..               ...                     ...                 ...   \n",
       "671              5.0               -0.380000  Los Angeles Sparks   \n",
       "672             -3.0              -10.433333     Phoenix Mercury   \n",
       "673             13.0                9.386667         Chicago Sky   \n",
       "674              9.0               -1.466667        Dallas Wings   \n",
       "675             -6.0                1.100000  Washington Mystics   \n",
       "\n",
       "    GAME_DATE_away MATCHUP_away WL_away  PLUS_MINUS_away  \\\n",
       "0       2020-07-25    LAS @ PHO       W             23.0   \n",
       "1       2020-07-25    IND @ WAS       L            -25.0   \n",
       "2       2020-07-25    SEA @ NYL       W             16.0   \n",
       "3       2020-07-26    CON @ MIN       L             -8.0   \n",
       "4       2020-07-26    CHI @ LVA       W              2.0   \n",
       "..             ...          ...     ...              ...   \n",
       "671     2023-06-11    LAS @ MIN       L             -5.0   \n",
       "672     2023-06-11    PHO @ IND       W              3.0   \n",
       "673     2023-06-11    CHI @ LVA       L            -13.0   \n",
       "674     2023-06-11    DAL @ NYL       L             -9.0   \n",
       "675     2023-06-11    WAS @ SEA       W              6.0   \n",
       "\n",
       "     AVG_30_PLUS_MINUS_away  \n",
       "0                       NaN  \n",
       "1                       NaN  \n",
       "2                       NaN  \n",
       "3                       NaN  \n",
       "4                       NaN  \n",
       "..                      ...  \n",
       "671               -5.333333  \n",
       "672               -5.066667  \n",
       "673                1.500000  \n",
       "674               -0.733333  \n",
       "675                3.033333  \n",
       "\n",
       "[676 rows x 13 columns]"
      ]
     },
     "execution_count": 23,
     "metadata": {},
     "output_type": "execute_result"
    }
   ],
   "source": [
    "games_merged"
   ]
  },
  {
   "cell_type": "code",
   "execution_count": 24,
   "id": "37eecd22-fb61-446e-a381-02629b6914b4",
   "metadata": {
    "ExecuteTime": {
     "end_time": "2023-06-12T12:38:38.674336Z",
     "start_time": "2023-06-12T12:38:38.211232Z"
    }
   },
   "outputs": [
    {
     "data": {
      "text/plain": [
       "(676, 13)"
      ]
     },
     "execution_count": 24,
     "metadata": {},
     "output_type": "execute_result"
    }
   ],
   "source": [
    "games_merged.shape"
   ]
  },
  {
   "cell_type": "code",
   "execution_count": 25,
   "id": "7d14432e-c76b-4160-9d41-5d5a367a301b",
   "metadata": {
    "ExecuteTime": {
     "end_time": "2023-06-12T12:38:38.983792Z",
     "start_time": "2023-06-12T12:38:38.496162Z"
    }
   },
   "outputs": [
    {
     "data": {
      "text/plain": [
       "0            NaN\n",
       "1            NaN\n",
       "2            NaN\n",
       "3            NaN\n",
       "4            NaN\n",
       "         ...    \n",
       "671    -0.380000\n",
       "672   -10.433333\n",
       "673     9.386667\n",
       "674    -1.466667\n",
       "675     1.100000\n",
       "Name: AVG_30_PLUS_MINUS_home, Length: 676, dtype: float64"
      ]
     },
     "execution_count": 25,
     "metadata": {},
     "output_type": "execute_result"
    }
   ],
   "source": [
    "games_merged['AVG_30_PLUS_MINUS_home']"
   ]
  },
  {
   "cell_type": "code",
   "execution_count": 26,
   "id": "5ce9b382-f0df-492f-a20f-8557118e3b30",
   "metadata": {
    "ExecuteTime": {
     "end_time": "2023-06-12T12:38:39.089310Z",
     "start_time": "2023-06-12T12:38:38.792737Z"
    }
   },
   "outputs": [],
   "source": [
    "games_merged['AVG_30_PLUS_MINUS_DIFF'] = games_merged['AVG_30_PLUS_MINUS_home'] - games_merged['AVG_30_PLUS_MINUS_away']"
   ]
  },
  {
   "cell_type": "code",
   "execution_count": 27,
   "id": "d5e89b4b-3563-4e0d-afe1-029c44382020",
   "metadata": {
    "ExecuteTime": {
     "end_time": "2023-06-12T12:38:40.345781Z",
     "start_time": "2023-06-12T12:38:39.091305Z"
    }
   },
   "outputs": [
    {
     "data": {
      "text/html": [
       "<div>\n",
       "<style scoped>\n",
       "    .dataframe tbody tr th:only-of-type {\n",
       "        vertical-align: middle;\n",
       "    }\n",
       "\n",
       "    .dataframe tbody tr th {\n",
       "        vertical-align: top;\n",
       "    }\n",
       "\n",
       "    .dataframe thead th {\n",
       "        text-align: right;\n",
       "    }\n",
       "</style>\n",
       "<table border=\"1\" class=\"dataframe\">\n",
       "  <thead>\n",
       "    <tr style=\"text-align: right;\">\n",
       "      <th></th>\n",
       "      <th>TEAM_NAME_home</th>\n",
       "      <th>GAME_ID</th>\n",
       "      <th>GAME_DATE_home</th>\n",
       "      <th>MATCHUP_home</th>\n",
       "      <th>WL_home</th>\n",
       "      <th>PLUS_MINUS_home</th>\n",
       "      <th>AVG_30_PLUS_MINUS_home</th>\n",
       "      <th>TEAM_NAME_away</th>\n",
       "      <th>GAME_DATE_away</th>\n",
       "      <th>MATCHUP_away</th>\n",
       "      <th>WL_away</th>\n",
       "      <th>PLUS_MINUS_away</th>\n",
       "      <th>AVG_30_PLUS_MINUS_away</th>\n",
       "      <th>AVG_30_PLUS_MINUS_DIFF</th>\n",
       "    </tr>\n",
       "  </thead>\n",
       "  <tbody>\n",
       "    <tr>\n",
       "      <th>0</th>\n",
       "      <td>Phoenix Mercury</td>\n",
       "      <td>1022001002</td>\n",
       "      <td>2020-07-25</td>\n",
       "      <td>PHO vs. LAS</td>\n",
       "      <td>L</td>\n",
       "      <td>-23.0</td>\n",
       "      <td>NaN</td>\n",
       "      <td>Los Angeles Sparks</td>\n",
       "      <td>2020-07-25</td>\n",
       "      <td>LAS @ PHO</td>\n",
       "      <td>W</td>\n",
       "      <td>23.0</td>\n",
       "      <td>NaN</td>\n",
       "      <td>NaN</td>\n",
       "    </tr>\n",
       "    <tr>\n",
       "      <th>1</th>\n",
       "      <td>Washington Mystics</td>\n",
       "      <td>1022001003</td>\n",
       "      <td>2020-07-25</td>\n",
       "      <td>WAS vs. IND</td>\n",
       "      <td>W</td>\n",
       "      <td>25.0</td>\n",
       "      <td>NaN</td>\n",
       "      <td>Indiana Fever</td>\n",
       "      <td>2020-07-25</td>\n",
       "      <td>IND @ WAS</td>\n",
       "      <td>L</td>\n",
       "      <td>-25.0</td>\n",
       "      <td>NaN</td>\n",
       "      <td>NaN</td>\n",
       "    </tr>\n",
       "    <tr>\n",
       "      <th>2</th>\n",
       "      <td>New York Liberty</td>\n",
       "      <td>1022001001</td>\n",
       "      <td>2020-07-25</td>\n",
       "      <td>NYL vs. SEA</td>\n",
       "      <td>L</td>\n",
       "      <td>-16.0</td>\n",
       "      <td>NaN</td>\n",
       "      <td>Seattle Storm</td>\n",
       "      <td>2020-07-25</td>\n",
       "      <td>SEA @ NYL</td>\n",
       "      <td>W</td>\n",
       "      <td>16.0</td>\n",
       "      <td>NaN</td>\n",
       "      <td>NaN</td>\n",
       "    </tr>\n",
       "    <tr>\n",
       "      <th>3</th>\n",
       "      <td>Minnesota Lynx</td>\n",
       "      <td>1022001004</td>\n",
       "      <td>2020-07-26</td>\n",
       "      <td>MIN vs. CON</td>\n",
       "      <td>W</td>\n",
       "      <td>8.0</td>\n",
       "      <td>NaN</td>\n",
       "      <td>Connecticut Sun</td>\n",
       "      <td>2020-07-26</td>\n",
       "      <td>CON @ MIN</td>\n",
       "      <td>L</td>\n",
       "      <td>-8.0</td>\n",
       "      <td>NaN</td>\n",
       "      <td>NaN</td>\n",
       "    </tr>\n",
       "    <tr>\n",
       "      <th>4</th>\n",
       "      <td>Las Vegas Aces</td>\n",
       "      <td>1022001005</td>\n",
       "      <td>2020-07-26</td>\n",
       "      <td>LVA vs. CHI</td>\n",
       "      <td>L</td>\n",
       "      <td>-2.0</td>\n",
       "      <td>NaN</td>\n",
       "      <td>Chicago Sky</td>\n",
       "      <td>2020-07-26</td>\n",
       "      <td>CHI @ LVA</td>\n",
       "      <td>W</td>\n",
       "      <td>2.0</td>\n",
       "      <td>NaN</td>\n",
       "      <td>NaN</td>\n",
       "    </tr>\n",
       "    <tr>\n",
       "      <th>...</th>\n",
       "      <td>...</td>\n",
       "      <td>...</td>\n",
       "      <td>...</td>\n",
       "      <td>...</td>\n",
       "      <td>...</td>\n",
       "      <td>...</td>\n",
       "      <td>...</td>\n",
       "      <td>...</td>\n",
       "      <td>...</td>\n",
       "      <td>...</td>\n",
       "      <td>...</td>\n",
       "      <td>...</td>\n",
       "      <td>...</td>\n",
       "      <td>...</td>\n",
       "    </tr>\n",
       "    <tr>\n",
       "      <th>671</th>\n",
       "      <td>Minnesota Lynx</td>\n",
       "      <td>1022300051</td>\n",
       "      <td>2023-06-11</td>\n",
       "      <td>MIN vs. LAS</td>\n",
       "      <td>W</td>\n",
       "      <td>5.0</td>\n",
       "      <td>-0.380000</td>\n",
       "      <td>Los Angeles Sparks</td>\n",
       "      <td>2023-06-11</td>\n",
       "      <td>LAS @ MIN</td>\n",
       "      <td>L</td>\n",
       "      <td>-5.0</td>\n",
       "      <td>-5.333333</td>\n",
       "      <td>4.953333</td>\n",
       "    </tr>\n",
       "    <tr>\n",
       "      <th>672</th>\n",
       "      <td>Indiana Fever</td>\n",
       "      <td>1022300049</td>\n",
       "      <td>2023-06-11</td>\n",
       "      <td>IND vs. PHO</td>\n",
       "      <td>L</td>\n",
       "      <td>-3.0</td>\n",
       "      <td>-10.433333</td>\n",
       "      <td>Phoenix Mercury</td>\n",
       "      <td>2023-06-11</td>\n",
       "      <td>PHO @ IND</td>\n",
       "      <td>W</td>\n",
       "      <td>3.0</td>\n",
       "      <td>-5.066667</td>\n",
       "      <td>-5.366667</td>\n",
       "    </tr>\n",
       "    <tr>\n",
       "      <th>673</th>\n",
       "      <td>Las Vegas Aces</td>\n",
       "      <td>1022300047</td>\n",
       "      <td>2023-06-11</td>\n",
       "      <td>LVA vs. CHI</td>\n",
       "      <td>W</td>\n",
       "      <td>13.0</td>\n",
       "      <td>9.386667</td>\n",
       "      <td>Chicago Sky</td>\n",
       "      <td>2023-06-11</td>\n",
       "      <td>CHI @ LVA</td>\n",
       "      <td>L</td>\n",
       "      <td>-13.0</td>\n",
       "      <td>1.500000</td>\n",
       "      <td>7.886667</td>\n",
       "    </tr>\n",
       "    <tr>\n",
       "      <th>674</th>\n",
       "      <td>New York Liberty</td>\n",
       "      <td>1022300046</td>\n",
       "      <td>2023-06-11</td>\n",
       "      <td>NYL vs. DAL</td>\n",
       "      <td>W</td>\n",
       "      <td>9.0</td>\n",
       "      <td>-1.466667</td>\n",
       "      <td>Dallas Wings</td>\n",
       "      <td>2023-06-11</td>\n",
       "      <td>DAL @ NYL</td>\n",
       "      <td>L</td>\n",
       "      <td>-9.0</td>\n",
       "      <td>-0.733333</td>\n",
       "      <td>-0.733333</td>\n",
       "    </tr>\n",
       "    <tr>\n",
       "      <th>675</th>\n",
       "      <td>Seattle Storm</td>\n",
       "      <td>1022300050</td>\n",
       "      <td>2023-06-11</td>\n",
       "      <td>SEA vs. WAS</td>\n",
       "      <td>L</td>\n",
       "      <td>-6.0</td>\n",
       "      <td>1.100000</td>\n",
       "      <td>Washington Mystics</td>\n",
       "      <td>2023-06-11</td>\n",
       "      <td>WAS @ SEA</td>\n",
       "      <td>W</td>\n",
       "      <td>6.0</td>\n",
       "      <td>3.033333</td>\n",
       "      <td>-1.933333</td>\n",
       "    </tr>\n",
       "  </tbody>\n",
       "</table>\n",
       "<p>676 rows × 14 columns</p>\n",
       "</div>"
      ],
      "text/plain": [
       "         TEAM_NAME_home     GAME_ID GAME_DATE_home MATCHUP_home WL_home  \\\n",
       "0       Phoenix Mercury  1022001002     2020-07-25  PHO vs. LAS       L   \n",
       "1    Washington Mystics  1022001003     2020-07-25  WAS vs. IND       W   \n",
       "2      New York Liberty  1022001001     2020-07-25  NYL vs. SEA       L   \n",
       "3        Minnesota Lynx  1022001004     2020-07-26  MIN vs. CON       W   \n",
       "4        Las Vegas Aces  1022001005     2020-07-26  LVA vs. CHI       L   \n",
       "..                  ...         ...            ...          ...     ...   \n",
       "671      Minnesota Lynx  1022300051     2023-06-11  MIN vs. LAS       W   \n",
       "672       Indiana Fever  1022300049     2023-06-11  IND vs. PHO       L   \n",
       "673      Las Vegas Aces  1022300047     2023-06-11  LVA vs. CHI       W   \n",
       "674    New York Liberty  1022300046     2023-06-11  NYL vs. DAL       W   \n",
       "675       Seattle Storm  1022300050     2023-06-11  SEA vs. WAS       L   \n",
       "\n",
       "     PLUS_MINUS_home  AVG_30_PLUS_MINUS_home      TEAM_NAME_away  \\\n",
       "0              -23.0                     NaN  Los Angeles Sparks   \n",
       "1               25.0                     NaN       Indiana Fever   \n",
       "2              -16.0                     NaN       Seattle Storm   \n",
       "3                8.0                     NaN     Connecticut Sun   \n",
       "4               -2.0                     NaN         Chicago Sky   \n",
       "..               ...                     ...                 ...   \n",
       "671              5.0               -0.380000  Los Angeles Sparks   \n",
       "672             -3.0              -10.433333     Phoenix Mercury   \n",
       "673             13.0                9.386667         Chicago Sky   \n",
       "674              9.0               -1.466667        Dallas Wings   \n",
       "675             -6.0                1.100000  Washington Mystics   \n",
       "\n",
       "    GAME_DATE_away MATCHUP_away WL_away  PLUS_MINUS_away  \\\n",
       "0       2020-07-25    LAS @ PHO       W             23.0   \n",
       "1       2020-07-25    IND @ WAS       L            -25.0   \n",
       "2       2020-07-25    SEA @ NYL       W             16.0   \n",
       "3       2020-07-26    CON @ MIN       L             -8.0   \n",
       "4       2020-07-26    CHI @ LVA       W              2.0   \n",
       "..             ...          ...     ...              ...   \n",
       "671     2023-06-11    LAS @ MIN       L             -5.0   \n",
       "672     2023-06-11    PHO @ IND       W              3.0   \n",
       "673     2023-06-11    CHI @ LVA       L            -13.0   \n",
       "674     2023-06-11    DAL @ NYL       L             -9.0   \n",
       "675     2023-06-11    WAS @ SEA       W              6.0   \n",
       "\n",
       "     AVG_30_PLUS_MINUS_away  AVG_30_PLUS_MINUS_DIFF  \n",
       "0                       NaN                     NaN  \n",
       "1                       NaN                     NaN  \n",
       "2                       NaN                     NaN  \n",
       "3                       NaN                     NaN  \n",
       "4                       NaN                     NaN  \n",
       "..                      ...                     ...  \n",
       "671               -5.333333                4.953333  \n",
       "672               -5.066667               -5.366667  \n",
       "673                1.500000                7.886667  \n",
       "674               -0.733333               -0.733333  \n",
       "675                3.033333               -1.933333  \n",
       "\n",
       "[676 rows x 14 columns]"
      ]
     },
     "execution_count": 27,
     "metadata": {},
     "output_type": "execute_result"
    }
   ],
   "source": [
    "games_merged"
   ]
  },
  {
   "cell_type": "code",
   "execution_count": 28,
   "id": "848e316c-a438-44fa-ad49-e45a8aacf651",
   "metadata": {
    "ExecuteTime": {
     "end_time": "2023-06-12T12:38:42.577524Z",
     "start_time": "2023-06-12T12:38:40.239174Z"
    }
   },
   "outputs": [],
   "source": [
    "games_model = games_merged[['WL_home', 'AVG_30_PLUS_MINUS_DIFF']].dropna()"
   ]
  },
  {
   "cell_type": "code",
   "execution_count": 29,
   "id": "b469ab44-72eb-4f30-880a-597d45376c61",
   "metadata": {
    "ExecuteTime": {
     "end_time": "2023-06-12T12:38:42.686500Z",
     "start_time": "2023-06-12T12:38:40.566073Z"
    }
   },
   "outputs": [
    {
     "data": {
      "text/html": [
       "<div>\n",
       "<style scoped>\n",
       "    .dataframe tbody tr th:only-of-type {\n",
       "        vertical-align: middle;\n",
       "    }\n",
       "\n",
       "    .dataframe tbody tr th {\n",
       "        vertical-align: top;\n",
       "    }\n",
       "\n",
       "    .dataframe thead th {\n",
       "        text-align: right;\n",
       "    }\n",
       "</style>\n",
       "<table border=\"1\" class=\"dataframe\">\n",
       "  <thead>\n",
       "    <tr style=\"text-align: right;\">\n",
       "      <th></th>\n",
       "      <th>WL_home</th>\n",
       "      <th>AVG_30_PLUS_MINUS_DIFF</th>\n",
       "    </tr>\n",
       "  </thead>\n",
       "  <tbody>\n",
       "    <tr>\n",
       "      <th>164</th>\n",
       "      <td>L</td>\n",
       "      <td>10.173333</td>\n",
       "    </tr>\n",
       "    <tr>\n",
       "      <th>175</th>\n",
       "      <td>L</td>\n",
       "      <td>-1.140000</td>\n",
       "    </tr>\n",
       "    <tr>\n",
       "      <th>179</th>\n",
       "      <td>W</td>\n",
       "      <td>6.200000</td>\n",
       "    </tr>\n",
       "    <tr>\n",
       "      <th>182</th>\n",
       "      <td>W</td>\n",
       "      <td>6.566667</td>\n",
       "    </tr>\n",
       "    <tr>\n",
       "      <th>183</th>\n",
       "      <td>W</td>\n",
       "      <td>10.393333</td>\n",
       "    </tr>\n",
       "    <tr>\n",
       "      <th>...</th>\n",
       "      <td>...</td>\n",
       "      <td>...</td>\n",
       "    </tr>\n",
       "    <tr>\n",
       "      <th>671</th>\n",
       "      <td>W</td>\n",
       "      <td>4.953333</td>\n",
       "    </tr>\n",
       "    <tr>\n",
       "      <th>672</th>\n",
       "      <td>L</td>\n",
       "      <td>-5.366667</td>\n",
       "    </tr>\n",
       "    <tr>\n",
       "      <th>673</th>\n",
       "      <td>W</td>\n",
       "      <td>7.886667</td>\n",
       "    </tr>\n",
       "    <tr>\n",
       "      <th>674</th>\n",
       "      <td>W</td>\n",
       "      <td>-0.733333</td>\n",
       "    </tr>\n",
       "    <tr>\n",
       "      <th>675</th>\n",
       "      <td>L</td>\n",
       "      <td>-1.933333</td>\n",
       "    </tr>\n",
       "  </tbody>\n",
       "</table>\n",
       "<p>486 rows × 2 columns</p>\n",
       "</div>"
      ],
      "text/plain": [
       "    WL_home  AVG_30_PLUS_MINUS_DIFF\n",
       "164       L               10.173333\n",
       "175       L               -1.140000\n",
       "179       W                6.200000\n",
       "182       W                6.566667\n",
       "183       W               10.393333\n",
       "..      ...                     ...\n",
       "671       W                4.953333\n",
       "672       L               -5.366667\n",
       "673       W                7.886667\n",
       "674       W               -0.733333\n",
       "675       L               -1.933333\n",
       "\n",
       "[486 rows x 2 columns]"
      ]
     },
     "execution_count": 29,
     "metadata": {},
     "output_type": "execute_result"
    }
   ],
   "source": [
    "games_model"
   ]
  },
  {
   "cell_type": "code",
   "execution_count": 30,
   "id": "ed4ac4a7-fabd-4d48-b0e1-22f499e0aa5b",
   "metadata": {
    "ExecuteTime": {
     "end_time": "2023-06-12T12:38:42.691504Z",
     "start_time": "2023-06-12T12:38:41.644405Z"
    }
   },
   "outputs": [],
   "source": [
    "#1 -> home team win\n",
    "#0 -> home team loss\n",
    "games_model['WL_home'] = games_model['WL_home'].map({'W':1, 'L':0})"
   ]
  },
  {
   "cell_type": "code",
   "execution_count": 31,
   "id": "52cfc9ef-2231-4ca0-b4a6-6ca0af0a2c48",
   "metadata": {
    "ExecuteTime": {
     "end_time": "2023-06-12T12:38:42.757152Z",
     "start_time": "2023-06-12T12:38:41.923156Z"
    }
   },
   "outputs": [
    {
     "data": {
      "text/html": [
       "<div>\n",
       "<style scoped>\n",
       "    .dataframe tbody tr th:only-of-type {\n",
       "        vertical-align: middle;\n",
       "    }\n",
       "\n",
       "    .dataframe tbody tr th {\n",
       "        vertical-align: top;\n",
       "    }\n",
       "\n",
       "    .dataframe thead th {\n",
       "        text-align: right;\n",
       "    }\n",
       "</style>\n",
       "<table border=\"1\" class=\"dataframe\">\n",
       "  <thead>\n",
       "    <tr style=\"text-align: right;\">\n",
       "      <th></th>\n",
       "      <th>WL_home</th>\n",
       "      <th>AVG_30_PLUS_MINUS_DIFF</th>\n",
       "    </tr>\n",
       "  </thead>\n",
       "  <tbody>\n",
       "    <tr>\n",
       "      <th>164</th>\n",
       "      <td>0</td>\n",
       "      <td>10.173333</td>\n",
       "    </tr>\n",
       "    <tr>\n",
       "      <th>175</th>\n",
       "      <td>0</td>\n",
       "      <td>-1.140000</td>\n",
       "    </tr>\n",
       "    <tr>\n",
       "      <th>179</th>\n",
       "      <td>1</td>\n",
       "      <td>6.200000</td>\n",
       "    </tr>\n",
       "    <tr>\n",
       "      <th>182</th>\n",
       "      <td>1</td>\n",
       "      <td>6.566667</td>\n",
       "    </tr>\n",
       "    <tr>\n",
       "      <th>183</th>\n",
       "      <td>1</td>\n",
       "      <td>10.393333</td>\n",
       "    </tr>\n",
       "    <tr>\n",
       "      <th>...</th>\n",
       "      <td>...</td>\n",
       "      <td>...</td>\n",
       "    </tr>\n",
       "    <tr>\n",
       "      <th>671</th>\n",
       "      <td>1</td>\n",
       "      <td>4.953333</td>\n",
       "    </tr>\n",
       "    <tr>\n",
       "      <th>672</th>\n",
       "      <td>0</td>\n",
       "      <td>-5.366667</td>\n",
       "    </tr>\n",
       "    <tr>\n",
       "      <th>673</th>\n",
       "      <td>1</td>\n",
       "      <td>7.886667</td>\n",
       "    </tr>\n",
       "    <tr>\n",
       "      <th>674</th>\n",
       "      <td>1</td>\n",
       "      <td>-0.733333</td>\n",
       "    </tr>\n",
       "    <tr>\n",
       "      <th>675</th>\n",
       "      <td>0</td>\n",
       "      <td>-1.933333</td>\n",
       "    </tr>\n",
       "  </tbody>\n",
       "</table>\n",
       "<p>486 rows × 2 columns</p>\n",
       "</div>"
      ],
      "text/plain": [
       "     WL_home  AVG_30_PLUS_MINUS_DIFF\n",
       "164        0               10.173333\n",
       "175        0               -1.140000\n",
       "179        1                6.200000\n",
       "182        1                6.566667\n",
       "183        1               10.393333\n",
       "..       ...                     ...\n",
       "671        1                4.953333\n",
       "672        0               -5.366667\n",
       "673        1                7.886667\n",
       "674        1               -0.733333\n",
       "675        0               -1.933333\n",
       "\n",
       "[486 rows x 2 columns]"
      ]
     },
     "execution_count": 31,
     "metadata": {},
     "output_type": "execute_result"
    }
   ],
   "source": [
    "games_model"
   ]
  },
  {
   "cell_type": "code",
   "execution_count": 32,
   "id": "a5e56c6a-1921-46ef-a125-6d99975cd675",
   "metadata": {
    "ExecuteTime": {
     "end_time": "2023-06-12T12:39:18.924111Z",
     "start_time": "2023-06-12T12:38:42.517509Z"
    }
   },
   "outputs": [],
   "source": [
    "from sklearn.model_selection import train_test_split"
   ]
  },
  {
   "cell_type": "code",
   "execution_count": 33,
   "id": "b1546fb3-35fc-4e23-9d0e-97a1e82e1b7b",
   "metadata": {
    "ExecuteTime": {
     "end_time": "2023-06-12T12:39:41.315412Z",
     "start_time": "2023-06-12T12:39:18.929109Z"
    }
   },
   "outputs": [
    {
     "name": "stdout",
     "output_type": "stream",
     "text": [
      "Requirement already satisfied: scikit-learn in c:\\users\\jmbj9\\appdata\\local\\programs\\python\\python311\\lib\\site-packages (1.2.2)\n",
      "Requirement already satisfied: numpy>=1.17.3 in c:\\users\\jmbj9\\appdata\\local\\programs\\python\\python311\\lib\\site-packages (from scikit-learn) (1.24.0)\n",
      "Requirement already satisfied: scipy>=1.3.2 in c:\\users\\jmbj9\\appdata\\local\\programs\\python\\python311\\lib\\site-packages (from scikit-learn) (1.10.1)\n",
      "Requirement already satisfied: joblib>=1.1.1 in c:\\users\\jmbj9\\appdata\\local\\programs\\python\\python311\\lib\\site-packages (from scikit-learn) (1.2.0)\n",
      "Requirement already satisfied: threadpoolctl>=2.0.0 in c:\\users\\jmbj9\\appdata\\local\\programs\\python\\python311\\lib\\site-packages (from scikit-learn) (3.1.0)\n",
      "Note: you may need to restart the kernel to use updated packages.\n"
     ]
    }
   ],
   "source": [
    "pip install -U scikit-learn"
   ]
  },
  {
   "cell_type": "code",
   "execution_count": 34,
   "id": "a5fea038-54a1-49ce-9996-612fa9cd40a2",
   "metadata": {
    "ExecuteTime": {
     "end_time": "2023-06-12T12:39:41.317408Z",
     "start_time": "2023-06-12T12:39:41.303421Z"
    }
   },
   "outputs": [],
   "source": [
    "from sklearn.model_selection import train_test_split"
   ]
  },
  {
   "cell_type": "code",
   "execution_count": 35,
   "id": "230a15db-781e-4c64-89af-935e0ca3f852",
   "metadata": {
    "ExecuteTime": {
     "end_time": "2023-06-12T12:39:41.973721Z",
     "start_time": "2023-06-12T12:39:41.312415Z"
    }
   },
   "outputs": [],
   "source": [
    "df_train, df_test = train_test_split(games_model, stratify = games_model['WL_home'],test_size = 0.2, random_state=7)"
   ]
  },
  {
   "cell_type": "code",
   "execution_count": 36,
   "id": "aaf8097e-a7e9-4f4c-84d1-2e48c085472c",
   "metadata": {
    "ExecuteTime": {
     "end_time": "2023-06-12T12:39:42.103940Z",
     "start_time": "2023-06-12T12:39:41.978714Z"
    }
   },
   "outputs": [
    {
     "data": {
      "text/plain": [
       "(388, 2)"
      ]
     },
     "execution_count": 36,
     "metadata": {},
     "output_type": "execute_result"
    }
   ],
   "source": [
    "df_train.shape"
   ]
  },
  {
   "cell_type": "code",
   "execution_count": 37,
   "id": "dae7e040-f060-4ac7-ae08-44552d065f55",
   "metadata": {
    "ExecuteTime": {
     "end_time": "2023-06-12T12:39:42.271095Z",
     "start_time": "2023-06-12T12:39:42.019941Z"
    }
   },
   "outputs": [
    {
     "data": {
      "text/plain": [
       "(98, 2)"
      ]
     },
     "execution_count": 37,
     "metadata": {},
     "output_type": "execute_result"
    }
   ],
   "source": [
    "df_test.shape"
   ]
  },
  {
   "cell_type": "code",
   "execution_count": 38,
   "id": "05f26427-d6f9-4fc5-9864-9d3e577b70db",
   "metadata": {
    "ExecuteTime": {
     "end_time": "2023-06-12T12:39:42.713407Z",
     "start_time": "2023-06-12T12:39:42.259087Z"
    }
   },
   "outputs": [],
   "source": [
    "target = 'WL_home'\n",
    "X_train = df_train.drop(columns=target) #avg_plus_minus_diff\n",
    "y_train = df_train[target] #WL_home\n",
    "\n",
    "X_test = df_test.drop(columns=target) #avg_plus_minus_diff\n",
    "y_test = df_test[target] #WL_home"
   ]
  },
  {
   "cell_type": "code",
   "execution_count": 39,
   "id": "dab1351e-3f87-4afe-8047-4739f0ce2a33",
   "metadata": {
    "ExecuteTime": {
     "end_time": "2023-06-12T12:39:49.339328Z",
     "start_time": "2023-06-12T12:39:42.718404Z"
    }
   },
   "outputs": [
    {
     "name": "stdout",
     "output_type": "stream",
     "text": [
      "Requirement already satisfied: xgboost in c:\\users\\jmbj9\\appdata\\local\\programs\\python\\python311\\lib\\site-packages (1.7.5)Note: you may need to restart the kernel to use updated packages.\n",
      "\n",
      "Requirement already satisfied: numpy in c:\\users\\jmbj9\\appdata\\local\\programs\\python\\python311\\lib\\site-packages (from xgboost) (1.24.0)\n",
      "Requirement already satisfied: scipy in c:\\users\\jmbj9\\appdata\\local\\programs\\python\\python311\\lib\\site-packages (from xgboost) (1.10.1)\n"
     ]
    }
   ],
   "source": [
    "pip install xgboost"
   ]
  },
  {
   "cell_type": "code",
   "execution_count": 40,
   "id": "eee51064-616f-4901-946e-b5c1512524c3",
   "metadata": {
    "ExecuteTime": {
     "end_time": "2023-06-12T12:39:52.500825Z",
     "start_time": "2023-06-12T12:39:49.354863Z"
    }
   },
   "outputs": [],
   "source": [
    "import xgboost as xgb"
   ]
  },
  {
   "cell_type": "code",
   "execution_count": 41,
   "id": "12f19d94-36fd-48f5-8d98-1bb5b82d0695",
   "metadata": {
    "ExecuteTime": {
     "end_time": "2023-06-12T12:39:52.551661Z",
     "start_time": "2023-06-12T12:39:52.509133Z"
    }
   },
   "outputs": [],
   "source": [
    "#classifier used to fit data\n",
    "clf = xgb.XGBClassifier(random_state=7)"
   ]
  },
  {
   "cell_type": "code",
   "execution_count": 42,
   "id": "c8e9c6e4-8929-4671-9557-40ace7b916f2",
   "metadata": {
    "ExecuteTime": {
     "end_time": "2023-06-12T12:39:53.415939Z",
     "start_time": "2023-06-12T12:39:52.528126Z"
    },
    "scrolled": true
   },
   "outputs": [
    {
     "data": {
      "text/html": [
       "<style>#sk-container-id-1 {color: black;background-color: white;}#sk-container-id-1 pre{padding: 0;}#sk-container-id-1 div.sk-toggleable {background-color: white;}#sk-container-id-1 label.sk-toggleable__label {cursor: pointer;display: block;width: 100%;margin-bottom: 0;padding: 0.3em;box-sizing: border-box;text-align: center;}#sk-container-id-1 label.sk-toggleable__label-arrow:before {content: \"▸\";float: left;margin-right: 0.25em;color: #696969;}#sk-container-id-1 label.sk-toggleable__label-arrow:hover:before {color: black;}#sk-container-id-1 div.sk-estimator:hover label.sk-toggleable__label-arrow:before {color: black;}#sk-container-id-1 div.sk-toggleable__content {max-height: 0;max-width: 0;overflow: hidden;text-align: left;background-color: #f0f8ff;}#sk-container-id-1 div.sk-toggleable__content pre {margin: 0.2em;color: black;border-radius: 0.25em;background-color: #f0f8ff;}#sk-container-id-1 input.sk-toggleable__control:checked~div.sk-toggleable__content {max-height: 200px;max-width: 100%;overflow: auto;}#sk-container-id-1 input.sk-toggleable__control:checked~label.sk-toggleable__label-arrow:before {content: \"▾\";}#sk-container-id-1 div.sk-estimator input.sk-toggleable__control:checked~label.sk-toggleable__label {background-color: #d4ebff;}#sk-container-id-1 div.sk-label input.sk-toggleable__control:checked~label.sk-toggleable__label {background-color: #d4ebff;}#sk-container-id-1 input.sk-hidden--visually {border: 0;clip: rect(1px 1px 1px 1px);clip: rect(1px, 1px, 1px, 1px);height: 1px;margin: -1px;overflow: hidden;padding: 0;position: absolute;width: 1px;}#sk-container-id-1 div.sk-estimator {font-family: monospace;background-color: #f0f8ff;border: 1px dotted black;border-radius: 0.25em;box-sizing: border-box;margin-bottom: 0.5em;}#sk-container-id-1 div.sk-estimator:hover {background-color: #d4ebff;}#sk-container-id-1 div.sk-parallel-item::after {content: \"\";width: 100%;border-bottom: 1px solid gray;flex-grow: 1;}#sk-container-id-1 div.sk-label:hover label.sk-toggleable__label {background-color: #d4ebff;}#sk-container-id-1 div.sk-serial::before {content: \"\";position: absolute;border-left: 1px solid gray;box-sizing: border-box;top: 0;bottom: 0;left: 50%;z-index: 0;}#sk-container-id-1 div.sk-serial {display: flex;flex-direction: column;align-items: center;background-color: white;padding-right: 0.2em;padding-left: 0.2em;position: relative;}#sk-container-id-1 div.sk-item {position: relative;z-index: 1;}#sk-container-id-1 div.sk-parallel {display: flex;align-items: stretch;justify-content: center;background-color: white;position: relative;}#sk-container-id-1 div.sk-item::before, #sk-container-id-1 div.sk-parallel-item::before {content: \"\";position: absolute;border-left: 1px solid gray;box-sizing: border-box;top: 0;bottom: 0;left: 50%;z-index: -1;}#sk-container-id-1 div.sk-parallel-item {display: flex;flex-direction: column;z-index: 1;position: relative;background-color: white;}#sk-container-id-1 div.sk-parallel-item:first-child::after {align-self: flex-end;width: 50%;}#sk-container-id-1 div.sk-parallel-item:last-child::after {align-self: flex-start;width: 50%;}#sk-container-id-1 div.sk-parallel-item:only-child::after {width: 0;}#sk-container-id-1 div.sk-dashed-wrapped {border: 1px dashed gray;margin: 0 0.4em 0.5em 0.4em;box-sizing: border-box;padding-bottom: 0.4em;background-color: white;}#sk-container-id-1 div.sk-label label {font-family: monospace;font-weight: bold;display: inline-block;line-height: 1.2em;}#sk-container-id-1 div.sk-label-container {text-align: center;}#sk-container-id-1 div.sk-container {/* jupyter's `normalize.less` sets `[hidden] { display: none; }` but bootstrap.min.css set `[hidden] { display: none !important; }` so we also need the `!important` here to be able to override the default hidden behavior on the sphinx rendered scikit-learn.org. See: https://github.com/scikit-learn/scikit-learn/issues/21755 */display: inline-block !important;position: relative;}#sk-container-id-1 div.sk-text-repr-fallback {display: none;}</style><div id=\"sk-container-id-1\" class=\"sk-top-container\"><div class=\"sk-text-repr-fallback\"><pre>XGBClassifier(base_score=None, booster=None, callbacks=None,\n",
       "              colsample_bylevel=None, colsample_bynode=None,\n",
       "              colsample_bytree=None, early_stopping_rounds=None,\n",
       "              enable_categorical=False, eval_metric=None, feature_types=None,\n",
       "              gamma=None, gpu_id=None, grow_policy=None, importance_type=None,\n",
       "              interaction_constraints=None, learning_rate=None, max_bin=None,\n",
       "              max_cat_threshold=None, max_cat_to_onehot=None,\n",
       "              max_delta_step=None, max_depth=None, max_leaves=None,\n",
       "              min_child_weight=None, missing=nan, monotone_constraints=None,\n",
       "              n_estimators=100, n_jobs=None, num_parallel_tree=None,\n",
       "              predictor=None, random_state=7, ...)</pre><b>In a Jupyter environment, please rerun this cell to show the HTML representation or trust the notebook. <br />On GitHub, the HTML representation is unable to render, please try loading this page with nbviewer.org.</b></div><div class=\"sk-container\" hidden><div class=\"sk-item\"><div class=\"sk-estimator sk-toggleable\"><input class=\"sk-toggleable__control sk-hidden--visually\" id=\"sk-estimator-id-1\" type=\"checkbox\" checked><label for=\"sk-estimator-id-1\" class=\"sk-toggleable__label sk-toggleable__label-arrow\">XGBClassifier</label><div class=\"sk-toggleable__content\"><pre>XGBClassifier(base_score=None, booster=None, callbacks=None,\n",
       "              colsample_bylevel=None, colsample_bynode=None,\n",
       "              colsample_bytree=None, early_stopping_rounds=None,\n",
       "              enable_categorical=False, eval_metric=None, feature_types=None,\n",
       "              gamma=None, gpu_id=None, grow_policy=None, importance_type=None,\n",
       "              interaction_constraints=None, learning_rate=None, max_bin=None,\n",
       "              max_cat_threshold=None, max_cat_to_onehot=None,\n",
       "              max_delta_step=None, max_depth=None, max_leaves=None,\n",
       "              min_child_weight=None, missing=nan, monotone_constraints=None,\n",
       "              n_estimators=100, n_jobs=None, num_parallel_tree=None,\n",
       "              predictor=None, random_state=7, ...)</pre></div></div></div></div></div>"
      ],
      "text/plain": [
       "XGBClassifier(base_score=None, booster=None, callbacks=None,\n",
       "              colsample_bylevel=None, colsample_bynode=None,\n",
       "              colsample_bytree=None, early_stopping_rounds=None,\n",
       "              enable_categorical=False, eval_metric=None, feature_types=None,\n",
       "              gamma=None, gpu_id=None, grow_policy=None, importance_type=None,\n",
       "              interaction_constraints=None, learning_rate=None, max_bin=None,\n",
       "              max_cat_threshold=None, max_cat_to_onehot=None,\n",
       "              max_delta_step=None, max_depth=None, max_leaves=None,\n",
       "              min_child_weight=None, missing=nan, monotone_constraints=None,\n",
       "              n_estimators=100, n_jobs=None, num_parallel_tree=None,\n",
       "              predictor=None, random_state=7, ...)"
      ]
     },
     "execution_count": 42,
     "metadata": {},
     "output_type": "execute_result"
    }
   ],
   "source": [
    "clf.fit(X_train, y_train)"
   ]
  },
  {
   "cell_type": "code",
   "execution_count": 43,
   "id": "01e03d18-2988-492f-80b8-b4dc931e3d31",
   "metadata": {
    "ExecuteTime": {
     "end_time": "2023-06-12T12:39:53.464351Z",
     "start_time": "2023-06-12T12:39:53.410941Z"
    }
   },
   "outputs": [],
   "source": [
    " from sklearn.metrics import accuracy_score\n",
    "y_pred = clf.predict(X_test)"
   ]
  },
  {
   "cell_type": "code",
   "execution_count": 44,
   "id": "03358f0d-0b7d-4c58-9225-ca45c2e228f8",
   "metadata": {
    "ExecuteTime": {
     "end_time": "2023-06-12T12:39:53.607160Z",
     "start_time": "2023-06-12T12:39:53.435823Z"
    }
   },
   "outputs": [
    {
     "data": {
      "text/plain": [
       "0.5612244897959183"
      ]
     },
     "execution_count": 44,
     "metadata": {},
     "output_type": "execute_result"
    }
   ],
   "source": [
    "accuracy_score(y_test, y_pred)"
   ]
  },
  {
   "cell_type": "code",
   "execution_count": 45,
   "id": "5df8c64f-0bf0-4f26-8383-fd3ff47bdb44",
   "metadata": {
    "ExecuteTime": {
     "end_time": "2023-06-12T12:39:53.814431Z",
     "start_time": "2023-06-12T12:39:53.611703Z"
    }
   },
   "outputs": [],
   "source": [
    "#hyperparameter tuning - random search\n",
    "from sklearn.model_selection import RandomizedSearchCV\n",
    "from sklearn.utils.fixes import loguniform"
   ]
  },
  {
   "cell_type": "code",
   "execution_count": 46,
   "id": "7de8d0ad-4714-48e8-8ac0-4f5e91b6265a",
   "metadata": {
    "ExecuteTime": {
     "end_time": "2023-06-12T12:39:53.984872Z",
     "start_time": "2023-06-12T12:39:53.792911Z"
    }
   },
   "outputs": [],
   "source": [
    "hyp_params = {'learning_rate': loguniform(0.0001,1),\n",
    "                'max_depth': [2,3,4,5,6,7,8,9],\n",
    "                'subsample': [0.7, 0.8, 0.9, 1.0],\n",
    "                'n_estimators': [50, 100, 150, 200]},"
   ]
  },
  {
   "cell_type": "code",
   "execution_count": 47,
   "id": "488b0dfa-2465-48a5-a6c9-b6aac02eb9e7",
   "metadata": {
    "ExecuteTime": {
     "end_time": "2023-06-12T12:39:54.179552Z",
     "start_time": "2023-06-12T12:39:53.989879Z"
    }
   },
   "outputs": [],
   "source": [
    "random_hyp = RandomizedSearchCV(estimator=clf, param_distributions=hyp_params, \n",
    "                                n_iter=20, \n",
    "                                cv=7,\n",
    "                               scoring = 'accuracy',\n",
    "                               random_state = 7)"
   ]
  },
  {
   "cell_type": "code",
   "execution_count": 48,
   "id": "40699823-2a42-4ed4-98a9-1dd2e5567b80",
   "metadata": {
    "ExecuteTime": {
     "end_time": "2023-06-12T12:40:48.567997Z",
     "start_time": "2023-06-12T12:39:54.154023Z"
    }
   },
   "outputs": [
    {
     "data": {
      "text/html": [
       "<style>#sk-container-id-2 {color: black;background-color: white;}#sk-container-id-2 pre{padding: 0;}#sk-container-id-2 div.sk-toggleable {background-color: white;}#sk-container-id-2 label.sk-toggleable__label {cursor: pointer;display: block;width: 100%;margin-bottom: 0;padding: 0.3em;box-sizing: border-box;text-align: center;}#sk-container-id-2 label.sk-toggleable__label-arrow:before {content: \"▸\";float: left;margin-right: 0.25em;color: #696969;}#sk-container-id-2 label.sk-toggleable__label-arrow:hover:before {color: black;}#sk-container-id-2 div.sk-estimator:hover label.sk-toggleable__label-arrow:before {color: black;}#sk-container-id-2 div.sk-toggleable__content {max-height: 0;max-width: 0;overflow: hidden;text-align: left;background-color: #f0f8ff;}#sk-container-id-2 div.sk-toggleable__content pre {margin: 0.2em;color: black;border-radius: 0.25em;background-color: #f0f8ff;}#sk-container-id-2 input.sk-toggleable__control:checked~div.sk-toggleable__content {max-height: 200px;max-width: 100%;overflow: auto;}#sk-container-id-2 input.sk-toggleable__control:checked~label.sk-toggleable__label-arrow:before {content: \"▾\";}#sk-container-id-2 div.sk-estimator input.sk-toggleable__control:checked~label.sk-toggleable__label {background-color: #d4ebff;}#sk-container-id-2 div.sk-label input.sk-toggleable__control:checked~label.sk-toggleable__label {background-color: #d4ebff;}#sk-container-id-2 input.sk-hidden--visually {border: 0;clip: rect(1px 1px 1px 1px);clip: rect(1px, 1px, 1px, 1px);height: 1px;margin: -1px;overflow: hidden;padding: 0;position: absolute;width: 1px;}#sk-container-id-2 div.sk-estimator {font-family: monospace;background-color: #f0f8ff;border: 1px dotted black;border-radius: 0.25em;box-sizing: border-box;margin-bottom: 0.5em;}#sk-container-id-2 div.sk-estimator:hover {background-color: #d4ebff;}#sk-container-id-2 div.sk-parallel-item::after {content: \"\";width: 100%;border-bottom: 1px solid gray;flex-grow: 1;}#sk-container-id-2 div.sk-label:hover label.sk-toggleable__label {background-color: #d4ebff;}#sk-container-id-2 div.sk-serial::before {content: \"\";position: absolute;border-left: 1px solid gray;box-sizing: border-box;top: 0;bottom: 0;left: 50%;z-index: 0;}#sk-container-id-2 div.sk-serial {display: flex;flex-direction: column;align-items: center;background-color: white;padding-right: 0.2em;padding-left: 0.2em;position: relative;}#sk-container-id-2 div.sk-item {position: relative;z-index: 1;}#sk-container-id-2 div.sk-parallel {display: flex;align-items: stretch;justify-content: center;background-color: white;position: relative;}#sk-container-id-2 div.sk-item::before, #sk-container-id-2 div.sk-parallel-item::before {content: \"\";position: absolute;border-left: 1px solid gray;box-sizing: border-box;top: 0;bottom: 0;left: 50%;z-index: -1;}#sk-container-id-2 div.sk-parallel-item {display: flex;flex-direction: column;z-index: 1;position: relative;background-color: white;}#sk-container-id-2 div.sk-parallel-item:first-child::after {align-self: flex-end;width: 50%;}#sk-container-id-2 div.sk-parallel-item:last-child::after {align-self: flex-start;width: 50%;}#sk-container-id-2 div.sk-parallel-item:only-child::after {width: 0;}#sk-container-id-2 div.sk-dashed-wrapped {border: 1px dashed gray;margin: 0 0.4em 0.5em 0.4em;box-sizing: border-box;padding-bottom: 0.4em;background-color: white;}#sk-container-id-2 div.sk-label label {font-family: monospace;font-weight: bold;display: inline-block;line-height: 1.2em;}#sk-container-id-2 div.sk-label-container {text-align: center;}#sk-container-id-2 div.sk-container {/* jupyter's `normalize.less` sets `[hidden] { display: none; }` but bootstrap.min.css set `[hidden] { display: none !important; }` so we also need the `!important` here to be able to override the default hidden behavior on the sphinx rendered scikit-learn.org. See: https://github.com/scikit-learn/scikit-learn/issues/21755 */display: inline-block !important;position: relative;}#sk-container-id-2 div.sk-text-repr-fallback {display: none;}</style><div id=\"sk-container-id-2\" class=\"sk-top-container\"><div class=\"sk-text-repr-fallback\"><pre>RandomizedSearchCV(cv=7,\n",
       "                   estimator=XGBClassifier(base_score=None, booster=None,\n",
       "                                           callbacks=None,\n",
       "                                           colsample_bylevel=None,\n",
       "                                           colsample_bynode=None,\n",
       "                                           colsample_bytree=None,\n",
       "                                           early_stopping_rounds=None,\n",
       "                                           enable_categorical=False,\n",
       "                                           eval_metric=None, feature_types=None,\n",
       "                                           gamma=None, gpu_id=None,\n",
       "                                           grow_policy=None,\n",
       "                                           importance_type=None,\n",
       "                                           interaction_constraints=None,\n",
       "                                           learning_rate...\n",
       "                                           monotone_constraints=None,\n",
       "                                           n_estimators=100, n_jobs=None,\n",
       "                                           num_parallel_tree=None,\n",
       "                                           predictor=None, random_state=7, ...),\n",
       "                   n_iter=20,\n",
       "                   param_distributions=({&#x27;learning_rate&#x27;: &lt;scipy.stats._distn_infrastructure.rv_continuous_frozen object at 0x000002315F8CC150&gt;,\n",
       "                                         &#x27;max_depth&#x27;: [2, 3, 4, 5, 6, 7, 8, 9],\n",
       "                                         &#x27;n_estimators&#x27;: [50, 100, 150, 200],\n",
       "                                         &#x27;subsample&#x27;: [0.7, 0.8, 0.9, 1.0]},),\n",
       "                   random_state=7, scoring=&#x27;accuracy&#x27;)</pre><b>In a Jupyter environment, please rerun this cell to show the HTML representation or trust the notebook. <br />On GitHub, the HTML representation is unable to render, please try loading this page with nbviewer.org.</b></div><div class=\"sk-container\" hidden><div class=\"sk-item sk-dashed-wrapped\"><div class=\"sk-label-container\"><div class=\"sk-label sk-toggleable\"><input class=\"sk-toggleable__control sk-hidden--visually\" id=\"sk-estimator-id-2\" type=\"checkbox\" ><label for=\"sk-estimator-id-2\" class=\"sk-toggleable__label sk-toggleable__label-arrow\">RandomizedSearchCV</label><div class=\"sk-toggleable__content\"><pre>RandomizedSearchCV(cv=7,\n",
       "                   estimator=XGBClassifier(base_score=None, booster=None,\n",
       "                                           callbacks=None,\n",
       "                                           colsample_bylevel=None,\n",
       "                                           colsample_bynode=None,\n",
       "                                           colsample_bytree=None,\n",
       "                                           early_stopping_rounds=None,\n",
       "                                           enable_categorical=False,\n",
       "                                           eval_metric=None, feature_types=None,\n",
       "                                           gamma=None, gpu_id=None,\n",
       "                                           grow_policy=None,\n",
       "                                           importance_type=None,\n",
       "                                           interaction_constraints=None,\n",
       "                                           learning_rate...\n",
       "                                           monotone_constraints=None,\n",
       "                                           n_estimators=100, n_jobs=None,\n",
       "                                           num_parallel_tree=None,\n",
       "                                           predictor=None, random_state=7, ...),\n",
       "                   n_iter=20,\n",
       "                   param_distributions=({&#x27;learning_rate&#x27;: &lt;scipy.stats._distn_infrastructure.rv_continuous_frozen object at 0x000002315F8CC150&gt;,\n",
       "                                         &#x27;max_depth&#x27;: [2, 3, 4, 5, 6, 7, 8, 9],\n",
       "                                         &#x27;n_estimators&#x27;: [50, 100, 150, 200],\n",
       "                                         &#x27;subsample&#x27;: [0.7, 0.8, 0.9, 1.0]},),\n",
       "                   random_state=7, scoring=&#x27;accuracy&#x27;)</pre></div></div></div><div class=\"sk-parallel\"><div class=\"sk-parallel-item\"><div class=\"sk-item\"><div class=\"sk-label-container\"><div class=\"sk-label sk-toggleable\"><input class=\"sk-toggleable__control sk-hidden--visually\" id=\"sk-estimator-id-3\" type=\"checkbox\" ><label for=\"sk-estimator-id-3\" class=\"sk-toggleable__label sk-toggleable__label-arrow\">estimator: XGBClassifier</label><div class=\"sk-toggleable__content\"><pre>XGBClassifier(base_score=None, booster=None, callbacks=None,\n",
       "              colsample_bylevel=None, colsample_bynode=None,\n",
       "              colsample_bytree=None, early_stopping_rounds=None,\n",
       "              enable_categorical=False, eval_metric=None, feature_types=None,\n",
       "              gamma=None, gpu_id=None, grow_policy=None, importance_type=None,\n",
       "              interaction_constraints=None, learning_rate=None, max_bin=None,\n",
       "              max_cat_threshold=None, max_cat_to_onehot=None,\n",
       "              max_delta_step=None, max_depth=None, max_leaves=None,\n",
       "              min_child_weight=None, missing=nan, monotone_constraints=None,\n",
       "              n_estimators=100, n_jobs=None, num_parallel_tree=None,\n",
       "              predictor=None, random_state=7, ...)</pre></div></div></div><div class=\"sk-serial\"><div class=\"sk-item\"><div class=\"sk-estimator sk-toggleable\"><input class=\"sk-toggleable__control sk-hidden--visually\" id=\"sk-estimator-id-4\" type=\"checkbox\" ><label for=\"sk-estimator-id-4\" class=\"sk-toggleable__label sk-toggleable__label-arrow\">XGBClassifier</label><div class=\"sk-toggleable__content\"><pre>XGBClassifier(base_score=None, booster=None, callbacks=None,\n",
       "              colsample_bylevel=None, colsample_bynode=None,\n",
       "              colsample_bytree=None, early_stopping_rounds=None,\n",
       "              enable_categorical=False, eval_metric=None, feature_types=None,\n",
       "              gamma=None, gpu_id=None, grow_policy=None, importance_type=None,\n",
       "              interaction_constraints=None, learning_rate=None, max_bin=None,\n",
       "              max_cat_threshold=None, max_cat_to_onehot=None,\n",
       "              max_delta_step=None, max_depth=None, max_leaves=None,\n",
       "              min_child_weight=None, missing=nan, monotone_constraints=None,\n",
       "              n_estimators=100, n_jobs=None, num_parallel_tree=None,\n",
       "              predictor=None, random_state=7, ...)</pre></div></div></div></div></div></div></div></div></div></div>"
      ],
      "text/plain": [
       "RandomizedSearchCV(cv=7,\n",
       "                   estimator=XGBClassifier(base_score=None, booster=None,\n",
       "                                           callbacks=None,\n",
       "                                           colsample_bylevel=None,\n",
       "                                           colsample_bynode=None,\n",
       "                                           colsample_bytree=None,\n",
       "                                           early_stopping_rounds=None,\n",
       "                                           enable_categorical=False,\n",
       "                                           eval_metric=None, feature_types=None,\n",
       "                                           gamma=None, gpu_id=None,\n",
       "                                           grow_policy=None,\n",
       "                                           importance_type=None,\n",
       "                                           interaction_constraints=None,\n",
       "                                           learning_rate...\n",
       "                                           monotone_constraints=None,\n",
       "                                           n_estimators=100, n_jobs=None,\n",
       "                                           num_parallel_tree=None,\n",
       "                                           predictor=None, random_state=7, ...),\n",
       "                   n_iter=20,\n",
       "                   param_distributions=({'learning_rate': <scipy.stats._distn_infrastructure.rv_continuous_frozen object at 0x000002315F8CC150>,\n",
       "                                         'max_depth': [2, 3, 4, 5, 6, 7, 8, 9],\n",
       "                                         'n_estimators': [50, 100, 150, 200],\n",
       "                                         'subsample': [0.7, 0.8, 0.9, 1.0]},),\n",
       "                   random_state=7, scoring='accuracy')"
      ]
     },
     "execution_count": 48,
     "metadata": {},
     "output_type": "execute_result"
    }
   ],
   "source": [
    "random_hyp.fit(X_train, y_train)"
   ]
  },
  {
   "cell_type": "code",
   "execution_count": 49,
   "id": "8856e00f-d94d-4cff-8b32-bcfb7f23f128",
   "metadata": {
    "ExecuteTime": {
     "end_time": "2023-06-12T12:40:48.683064Z",
     "start_time": "2023-06-12T12:40:48.568983Z"
    }
   },
   "outputs": [
    {
     "data": {
      "text/plain": [
       "{'learning_rate': 0.014255533717547383,\n",
       " 'max_depth': 2,\n",
       " 'n_estimators': 100,\n",
       " 'subsample': 0.9}"
      ]
     },
     "execution_count": 49,
     "metadata": {},
     "output_type": "execute_result"
    }
   ],
   "source": [
    "random_hyp.best_params_"
   ]
  },
  {
   "cell_type": "code",
   "execution_count": 50,
   "id": "f0f9de34-1bef-432f-a667-438d2d388445",
   "metadata": {
    "ExecuteTime": {
     "end_time": "2023-06-12T12:40:49.117797Z",
     "start_time": "2023-06-12T12:40:48.591078Z"
    }
   },
   "outputs": [],
   "source": [
    "model_hyp = random_hyp.best_estimator_"
   ]
  },
  {
   "cell_type": "code",
   "execution_count": 51,
   "id": "bf9e0f4c-3795-44cc-86f3-88a07692a121",
   "metadata": {
    "ExecuteTime": {
     "end_time": "2023-06-12T12:40:49.676592Z",
     "start_time": "2023-06-12T12:40:49.135346Z"
    }
   },
   "outputs": [],
   "source": [
    "y_pred_hyp = model_hyp.predict(X_test)"
   ]
  },
  {
   "cell_type": "code",
   "execution_count": 52,
   "id": "9bc53a84-1b78-406a-98dd-ba9f58aa1898",
   "metadata": {
    "ExecuteTime": {
     "end_time": "2023-06-12T12:40:51.254571Z",
     "start_time": "2023-06-12T12:40:49.684612Z"
    }
   },
   "outputs": [
    {
     "data": {
      "text/plain": [
       "0.6224489795918368"
      ]
     },
     "execution_count": 52,
     "metadata": {},
     "output_type": "execute_result"
    }
   ],
   "source": [
    "accuracy_score(y_test, y_pred_hyp)"
   ]
  },
  {
   "cell_type": "code",
   "execution_count": 53,
   "id": "9470694f-a6b9-4738-80da-da799138efe4",
   "metadata": {
    "ExecuteTime": {
     "end_time": "2023-06-12T12:40:51.981237Z",
     "start_time": "2023-06-12T12:40:51.238581Z"
    }
   },
   "outputs": [],
   "source": [
    "from joblib import dump, load"
   ]
  },
  {
   "cell_type": "code",
   "execution_count": 54,
   "id": "467d99ec-2a9b-4259-b538-5dae405af95f",
   "metadata": {
    "ExecuteTime": {
     "end_time": "2023-06-12T12:40:52.589918Z",
     "start_time": "2023-06-12T12:40:51.992767Z"
    }
   },
   "outputs": [
    {
     "data": {
      "text/plain": [
       "['model_nba.joblib']"
      ]
     },
     "execution_count": 54,
     "metadata": {},
     "output_type": "execute_result"
    }
   ],
   "source": [
    "dump(model_hyp, 'model_nba.joblib')"
   ]
  },
  {
   "cell_type": "code",
   "execution_count": 55,
   "id": "8653ce4d-7ce5-4642-bbf3-0a0f304a9b3d",
   "metadata": {
    "ExecuteTime": {
     "end_time": "2023-06-12T12:40:53.320179Z",
     "start_time": "2023-06-12T12:40:52.592632Z"
    }
   },
   "outputs": [],
   "source": [
    "model_saved = load('model_nba.joblib')"
   ]
  },
  {
   "cell_type": "code",
   "execution_count": 56,
   "id": "c6bb0683-0469-416c-877b-3f1fb725e514",
   "metadata": {
    "ExecuteTime": {
     "end_time": "2023-06-12T12:40:53.598540Z",
     "start_time": "2023-06-12T12:40:53.269177Z"
    }
   },
   "outputs": [
    {
     "data": {
      "text/plain": [
       "0.6224489795918368"
      ]
     },
     "execution_count": 56,
     "metadata": {},
     "output_type": "execute_result"
    }
   ],
   "source": [
    "accuracy_score(y_test, model_saved.predict(X_test))"
   ]
  },
  {
   "cell_type": "code",
   "execution_count": 57,
   "id": "44f75d6e-1bad-4ef3-8ff6-8de8bfc32c13",
   "metadata": {
    "ExecuteTime": {
     "end_time": "2023-06-12T12:40:53.986663Z",
     "start_time": "2023-06-12T12:40:53.602569Z"
    }
   },
   "outputs": [],
   "source": [
    "#home team away team -> games results"
   ]
  },
  {
   "cell_type": "code",
   "execution_count": 58,
   "id": "20371c6e-a9d0-4975-a6ed-22f27d6935d1",
   "metadata": {
    "ExecuteTime": {
     "end_time": "2023-06-12T12:40:54.487432Z",
     "start_time": "2023-06-12T12:40:53.996208Z"
    }
   },
   "outputs": [],
   "source": [
    "team_home = 'Las Vegas Aces'\n",
    "team_away = 'Seattle Storm'"
   ]
  },
  {
   "cell_type": "code",
   "execution_count": 59,
   "id": "30b06dcb-b0b2-4920-902a-e75af4163200",
   "metadata": {
    "ExecuteTime": {
     "end_time": "2023-06-12T12:40:55.095582Z",
     "start_time": "2023-06-12T12:40:54.474451Z"
    }
   },
   "outputs": [],
   "source": [
    "def predict_games(team_home, team_away):\n",
    "    from nba_api.stats.endpoints import leaguegamefinder\n",
    "    gamefinder = leaguegamefinder.LeagueGameFinder(date_from_nullable='01/01/2022', league_id_nullable='00')\n",
    "    games = gamefinder.get_data_frames()[0]\n",
    "    \n",
    "    games = games[['TEAM_NAME', 'GAME_ID', 'GAME_DATE', 'MATCHUP', 'WL','PLUS_MINUS']]\n",
    "    \n",
    "    import pandas as pd\n",
    "    \n",
    "    games['GAME_DATE'] = pd.to_datetime(games['GAME_DATE'])\n",
    "    \n",
    "    msk_home = (games['TEAM_NAME'] == team_home)\n",
    "    games_30_home = games[msk_home].sort_values('GAME_DATE').tail(30)\n",
    "    home_plus_minus = games_30_home['PLUS_MINUS'].mean()\n",
    "    \n",
    "    msk_away = (games['TEAM_NAME'] == team_away)\n",
    "    games_30_away = games[msk_away].sort_values('GAME_DATE').tail(30)\n",
    "    away_plus_minus = games_30_away['PLUS_MINUS'].mean()\n",
    "    \n",
    "    games_diff = home_plus_minus - away_plus_minus\n",
    "    \n",
    "    model_saved = load('model_nba.joblib')\n",
    "    \n",
    "    import numpy as np\n",
    "    predict_home_win = model_saved.predict(np.array([games_diff]))[0]\n",
    "    \n",
    "    predict_home_win_probability = model_saved.predict_proba(np.array([games_diff]))[0][1]\n",
    "    return predict_home_win, predict_home_win_probability"
   ]
  },
  {
   "cell_type": "code",
   "execution_count": 60,
   "id": "8ee7b7d2-d67e-4071-8831-b236dab12e21",
   "metadata": {
    "ExecuteTime": {
     "end_time": "2023-06-12T12:40:58.238997Z",
     "start_time": "2023-06-12T12:40:55.090582Z"
    }
   },
   "outputs": [
    {
     "data": {
      "text/plain": [
       "(0, 0.27283245)"
      ]
     },
     "execution_count": 60,
     "metadata": {},
     "output_type": "execute_result"
    }
   ],
   "source": [
    "predict_games('Las Vegas Aces', 'Seattle Storm')"
   ]
  },
  {
   "cell_type": "code",
   "execution_count": null,
   "id": "1ef85b9d-954b-4356-840f-5e41533a0b7c",
   "metadata": {
    "ExecuteTime": {
     "end_time": "2023-06-12T12:40:58.240000Z",
     "start_time": "2023-06-12T12:40:58.232999Z"
    }
   },
   "outputs": [],
   "source": []
  }
 ],
 "metadata": {
  "kernelspec": {
   "display_name": "Python 3 (ipykernel)",
   "language": "python",
   "name": "python3"
  },
  "language_info": {
   "codemirror_mode": {
    "name": "ipython",
    "version": 3
   },
   "file_extension": ".py",
   "mimetype": "text/x-python",
   "name": "python",
   "nbconvert_exporter": "python",
   "pygments_lexer": "ipython3",
   "version": "3.11.1"
  }
 },
 "nbformat": 4,
 "nbformat_minor": 5
}
